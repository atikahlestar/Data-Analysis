{
  "nbformat": 4,
  "nbformat_minor": 0,
  "metadata": {
    "colab": {
      "provenance": [],
      "toc_visible": true,
      "authorship_tag": "ABX9TyMDANYqXCjoFC2mXrXh6g74",
      "include_colab_link": true
    },
    "kernelspec": {
      "name": "python3",
      "display_name": "Python 3"
    },
    "language_info": {
      "name": "python"
    }
  },
  "cells": [
    {
      "cell_type": "markdown",
      "metadata": {
        "id": "view-in-github",
        "colab_type": "text"
      },
      "source": [
        "<a href=\"https://colab.research.google.com/github/atikahlestar/Data-Analysis/blob/main/Kasus_1_Toko_Buku_Online_%22BukuKita.ipynb\" target=\"_parent\"><img src=\"https://colab.research.google.com/assets/colab-badge.svg\" alt=\"Open In Colab\"/></a>"
      ]
    },
    {
      "cell_type": "markdown",
      "source": [
        "## Kasus 01 : Toko Buku Online\n",
        "BukuKita adalah sebuah toko buku online yang cukup populer di Indonesia. Mereka menjual berbagai jenis buku, mulai dari komik, novel, hingga buku pendidikan. Sebagai bagian dari strategi bisnis mereka, tim Data Analyst BukuKita sedang melakukan analisis terhadap 100 data penjualan yang berisi informasi seperti No. Pelanggan, Jumlah Pesanan, Total Pembelanjaan, dan Jenis Buku. Tim berharap dapat memahami lebih dalam tentang pola pembelian pelanggan dan kontribusi setiap jenis buku terhadap pendapatan toko.\n",
        "\n",
        "Dari hasil analisis tersebut, tim ingin menjawab beberapa pertanyaan penting untuk\n",
        "menyusun strategi bisnis ke depan. Bantulah mereka menjawab pertanyaan-pertanyaan\n",
        "berikut ini:\n",
        "1. Tim BukuKita menduga bahwa sejumlah kecil pelanggan mungkin menyumbang\n",
        "sebagian besar pendapatan mereka. Mereka ingin mengetahui apakah hipotesis ini\n",
        "benar dengan menganalisis distribusi kontribusi pelanggan terhadap total nilai\n",
        "transaksi (GMV). Apakah terdapat kelompok kecil pelanggan yang mendominasi\n",
        "GMV?\n",
        "2. BukuKita menjual berbagai jenis buku, termasuk komik, novel, manga, kitab suci,\n",
        "dan buku pendidikan. Tim Data Analyst ingin mengetahui apakah ada kategori buku\n",
        "tertentu yang lebih banyak diminati dan menyumbang pendapatan lebih besar. Dari\n",
        "data penjualan yang ada, bagaimana pola pembelian berdasarkan jenis buku?\n",
        "Apakah ada satu atau lebih kategori buku yang mendominasi total nilai transaksi?\n",
        "3. BukuKita mengamati bahwa ada pelanggan yang memesan dalam jumlah besar,\n",
        "tetapi mereka tidak yakin apakah jumlah pesanan yang tinggi selalu berkorelasi\n",
        "dengan total belanja yang lebih besar. Dengan menggunakan data penjualan yang\n",
        "ada, bantu tim Data Analyst memeriksa hubungan antara jumlah pesanan dengan\n",
        "nilai transaksi (GMV). Apakah pelanggan yang melakukan jumlah pesanan lebih\n",
        "banyak juga menghasilkan nilai transaksi yang lebih besar?\n",
        "4. Setiap pelanggan BukuKita memiliki kontribusi yang berbeda-beda terhadap total\n",
        "GMV. Tim Data Analyst ingin mengetahui apakah ada pelanggan tertentu yang\n",
        "sangat mendominasi nilai transaksi toko. Mereka juga ingin melihat apakah distribusi\n",
        "kontribusi pelanggan terhadap GMV cenderung merata atau hanya beberapa\n",
        "pelanggan yang menyumbang lebih banyak dari yang lain."
      ],
      "metadata": {
        "id": "ETYUKKyqgU58"
      }
    },
    {
      "cell_type": "markdown",
      "source": [
        "## Dataset"
      ],
      "metadata": {
        "id": "vcFOdgRymYwT"
      }
    },
    {
      "cell_type": "code",
      "source": [
        "import pandas as pd\n",
        "import numpy as np\n",
        "import matplotlib.pyplot as plt\n",
        "import seaborn as sns"
      ],
      "metadata": {
        "id": "eXsyrTBsBkAY"
      },
      "execution_count": null,
      "outputs": []
    },
    {
      "cell_type": "code",
      "source": [
        "from google.colab import drive\n",
        "drive.mount('/content/drive')"
      ],
      "metadata": {
        "colab": {
          "base_uri": "https://localhost:8080/"
        },
        "id": "TYfB2tmkBYmj",
        "outputId": "9ebd32ff-c5ff-4f74-b631-114f5d70d891"
      },
      "execution_count": null,
      "outputs": [
        {
          "output_type": "stream",
          "name": "stdout",
          "text": [
            "Drive already mounted at /content/drive; to attempt to forcibly remount, call drive.mount(\"/content/drive\", force_remount=True).\n"
          ]
        }
      ]
    },
    {
      "cell_type": "code",
      "source": [
        "file_path = '/content/drive/Shared drives/atikahlestari31/Project/Dataset/Dataset Bukukita.csv'"
      ],
      "metadata": {
        "id": "_Jp9lHO2CRav"
      },
      "execution_count": null,
      "outputs": []
    },
    {
      "cell_type": "code",
      "source": [
        "df = pd.read_csv(file_path)\n",
        "df.head()"
      ],
      "metadata": {
        "id": "lnV3jKrGnhn4",
        "colab": {
          "base_uri": "https://localhost:8080/",
          "height": 206
        },
        "outputId": "cb9024c8-9f3e-40e6-812d-9c95eec25a68"
      },
      "execution_count": null,
      "outputs": [
        {
          "output_type": "execute_result",
          "data": {
            "text/plain": [
              "   No. Pelanggan  Jumlah Pesanan   Total Belanja  Jenis Buku\n",
              "0              1              15   Rp 1,858,795        Komik\n",
              "1              2              15   Rp 1,958,279   Pendidikan\n",
              "2              3              15   Rp 1,904,515        Komik\n",
              "3              4              14   Rp 1,882,220        Novel\n",
              "4              5              14   Rp 2,026,773        Komik"
            ],
            "text/html": [
              "\n",
              "  <div id=\"df-b12ef554-6786-4714-bcd7-3ffe7864974d\" class=\"colab-df-container\">\n",
              "    <div>\n",
              "<style scoped>\n",
              "    .dataframe tbody tr th:only-of-type {\n",
              "        vertical-align: middle;\n",
              "    }\n",
              "\n",
              "    .dataframe tbody tr th {\n",
              "        vertical-align: top;\n",
              "    }\n",
              "\n",
              "    .dataframe thead th {\n",
              "        text-align: right;\n",
              "    }\n",
              "</style>\n",
              "<table border=\"1\" class=\"dataframe\">\n",
              "  <thead>\n",
              "    <tr style=\"text-align: right;\">\n",
              "      <th></th>\n",
              "      <th>No. Pelanggan</th>\n",
              "      <th>Jumlah Pesanan</th>\n",
              "      <th>Total Belanja</th>\n",
              "      <th>Jenis Buku</th>\n",
              "    </tr>\n",
              "  </thead>\n",
              "  <tbody>\n",
              "    <tr>\n",
              "      <th>0</th>\n",
              "      <td>1</td>\n",
              "      <td>15</td>\n",
              "      <td>Rp 1,858,795</td>\n",
              "      <td>Komik</td>\n",
              "    </tr>\n",
              "    <tr>\n",
              "      <th>1</th>\n",
              "      <td>2</td>\n",
              "      <td>15</td>\n",
              "      <td>Rp 1,958,279</td>\n",
              "      <td>Pendidikan</td>\n",
              "    </tr>\n",
              "    <tr>\n",
              "      <th>2</th>\n",
              "      <td>3</td>\n",
              "      <td>15</td>\n",
              "      <td>Rp 1,904,515</td>\n",
              "      <td>Komik</td>\n",
              "    </tr>\n",
              "    <tr>\n",
              "      <th>3</th>\n",
              "      <td>4</td>\n",
              "      <td>14</td>\n",
              "      <td>Rp 1,882,220</td>\n",
              "      <td>Novel</td>\n",
              "    </tr>\n",
              "    <tr>\n",
              "      <th>4</th>\n",
              "      <td>5</td>\n",
              "      <td>14</td>\n",
              "      <td>Rp 2,026,773</td>\n",
              "      <td>Komik</td>\n",
              "    </tr>\n",
              "  </tbody>\n",
              "</table>\n",
              "</div>\n",
              "    <div class=\"colab-df-buttons\">\n",
              "\n",
              "  <div class=\"colab-df-container\">\n",
              "    <button class=\"colab-df-convert\" onclick=\"convertToInteractive('df-b12ef554-6786-4714-bcd7-3ffe7864974d')\"\n",
              "            title=\"Convert this dataframe to an interactive table.\"\n",
              "            style=\"display:none;\">\n",
              "\n",
              "  <svg xmlns=\"http://www.w3.org/2000/svg\" height=\"24px\" viewBox=\"0 -960 960 960\">\n",
              "    <path d=\"M120-120v-720h720v720H120Zm60-500h600v-160H180v160Zm220 220h160v-160H400v160Zm0 220h160v-160H400v160ZM180-400h160v-160H180v160Zm440 0h160v-160H620v160ZM180-180h160v-160H180v160Zm440 0h160v-160H620v160Z\"/>\n",
              "  </svg>\n",
              "    </button>\n",
              "\n",
              "  <style>\n",
              "    .colab-df-container {\n",
              "      display:flex;\n",
              "      gap: 12px;\n",
              "    }\n",
              "\n",
              "    .colab-df-convert {\n",
              "      background-color: #E8F0FE;\n",
              "      border: none;\n",
              "      border-radius: 50%;\n",
              "      cursor: pointer;\n",
              "      display: none;\n",
              "      fill: #1967D2;\n",
              "      height: 32px;\n",
              "      padding: 0 0 0 0;\n",
              "      width: 32px;\n",
              "    }\n",
              "\n",
              "    .colab-df-convert:hover {\n",
              "      background-color: #E2EBFA;\n",
              "      box-shadow: 0px 1px 2px rgba(60, 64, 67, 0.3), 0px 1px 3px 1px rgba(60, 64, 67, 0.15);\n",
              "      fill: #174EA6;\n",
              "    }\n",
              "\n",
              "    .colab-df-buttons div {\n",
              "      margin-bottom: 4px;\n",
              "    }\n",
              "\n",
              "    [theme=dark] .colab-df-convert {\n",
              "      background-color: #3B4455;\n",
              "      fill: #D2E3FC;\n",
              "    }\n",
              "\n",
              "    [theme=dark] .colab-df-convert:hover {\n",
              "      background-color: #434B5C;\n",
              "      box-shadow: 0px 1px 3px 1px rgba(0, 0, 0, 0.15);\n",
              "      filter: drop-shadow(0px 1px 2px rgba(0, 0, 0, 0.3));\n",
              "      fill: #FFFFFF;\n",
              "    }\n",
              "  </style>\n",
              "\n",
              "    <script>\n",
              "      const buttonEl =\n",
              "        document.querySelector('#df-b12ef554-6786-4714-bcd7-3ffe7864974d button.colab-df-convert');\n",
              "      buttonEl.style.display =\n",
              "        google.colab.kernel.accessAllowed ? 'block' : 'none';\n",
              "\n",
              "      async function convertToInteractive(key) {\n",
              "        const element = document.querySelector('#df-b12ef554-6786-4714-bcd7-3ffe7864974d');\n",
              "        const dataTable =\n",
              "          await google.colab.kernel.invokeFunction('convertToInteractive',\n",
              "                                                    [key], {});\n",
              "        if (!dataTable) return;\n",
              "\n",
              "        const docLinkHtml = 'Like what you see? Visit the ' +\n",
              "          '<a target=\"_blank\" href=https://colab.research.google.com/notebooks/data_table.ipynb>data table notebook</a>'\n",
              "          + ' to learn more about interactive tables.';\n",
              "        element.innerHTML = '';\n",
              "        dataTable['output_type'] = 'display_data';\n",
              "        await google.colab.output.renderOutput(dataTable, element);\n",
              "        const docLink = document.createElement('div');\n",
              "        docLink.innerHTML = docLinkHtml;\n",
              "        element.appendChild(docLink);\n",
              "      }\n",
              "    </script>\n",
              "  </div>\n",
              "\n",
              "\n",
              "<div id=\"df-3ee00db6-5d77-404a-9f33-e872de7a4a81\">\n",
              "  <button class=\"colab-df-quickchart\" onclick=\"quickchart('df-3ee00db6-5d77-404a-9f33-e872de7a4a81')\"\n",
              "            title=\"Suggest charts\"\n",
              "            style=\"display:none;\">\n",
              "\n",
              "<svg xmlns=\"http://www.w3.org/2000/svg\" height=\"24px\"viewBox=\"0 0 24 24\"\n",
              "     width=\"24px\">\n",
              "    <g>\n",
              "        <path d=\"M19 3H5c-1.1 0-2 .9-2 2v14c0 1.1.9 2 2 2h14c1.1 0 2-.9 2-2V5c0-1.1-.9-2-2-2zM9 17H7v-7h2v7zm4 0h-2V7h2v10zm4 0h-2v-4h2v4z\"/>\n",
              "    </g>\n",
              "</svg>\n",
              "  </button>\n",
              "\n",
              "<style>\n",
              "  .colab-df-quickchart {\n",
              "      --bg-color: #E8F0FE;\n",
              "      --fill-color: #1967D2;\n",
              "      --hover-bg-color: #E2EBFA;\n",
              "      --hover-fill-color: #174EA6;\n",
              "      --disabled-fill-color: #AAA;\n",
              "      --disabled-bg-color: #DDD;\n",
              "  }\n",
              "\n",
              "  [theme=dark] .colab-df-quickchart {\n",
              "      --bg-color: #3B4455;\n",
              "      --fill-color: #D2E3FC;\n",
              "      --hover-bg-color: #434B5C;\n",
              "      --hover-fill-color: #FFFFFF;\n",
              "      --disabled-bg-color: #3B4455;\n",
              "      --disabled-fill-color: #666;\n",
              "  }\n",
              "\n",
              "  .colab-df-quickchart {\n",
              "    background-color: var(--bg-color);\n",
              "    border: none;\n",
              "    border-radius: 50%;\n",
              "    cursor: pointer;\n",
              "    display: none;\n",
              "    fill: var(--fill-color);\n",
              "    height: 32px;\n",
              "    padding: 0;\n",
              "    width: 32px;\n",
              "  }\n",
              "\n",
              "  .colab-df-quickchart:hover {\n",
              "    background-color: var(--hover-bg-color);\n",
              "    box-shadow: 0 1px 2px rgba(60, 64, 67, 0.3), 0 1px 3px 1px rgba(60, 64, 67, 0.15);\n",
              "    fill: var(--button-hover-fill-color);\n",
              "  }\n",
              "\n",
              "  .colab-df-quickchart-complete:disabled,\n",
              "  .colab-df-quickchart-complete:disabled:hover {\n",
              "    background-color: var(--disabled-bg-color);\n",
              "    fill: var(--disabled-fill-color);\n",
              "    box-shadow: none;\n",
              "  }\n",
              "\n",
              "  .colab-df-spinner {\n",
              "    border: 2px solid var(--fill-color);\n",
              "    border-color: transparent;\n",
              "    border-bottom-color: var(--fill-color);\n",
              "    animation:\n",
              "      spin 1s steps(1) infinite;\n",
              "  }\n",
              "\n",
              "  @keyframes spin {\n",
              "    0% {\n",
              "      border-color: transparent;\n",
              "      border-bottom-color: var(--fill-color);\n",
              "      border-left-color: var(--fill-color);\n",
              "    }\n",
              "    20% {\n",
              "      border-color: transparent;\n",
              "      border-left-color: var(--fill-color);\n",
              "      border-top-color: var(--fill-color);\n",
              "    }\n",
              "    30% {\n",
              "      border-color: transparent;\n",
              "      border-left-color: var(--fill-color);\n",
              "      border-top-color: var(--fill-color);\n",
              "      border-right-color: var(--fill-color);\n",
              "    }\n",
              "    40% {\n",
              "      border-color: transparent;\n",
              "      border-right-color: var(--fill-color);\n",
              "      border-top-color: var(--fill-color);\n",
              "    }\n",
              "    60% {\n",
              "      border-color: transparent;\n",
              "      border-right-color: var(--fill-color);\n",
              "    }\n",
              "    80% {\n",
              "      border-color: transparent;\n",
              "      border-right-color: var(--fill-color);\n",
              "      border-bottom-color: var(--fill-color);\n",
              "    }\n",
              "    90% {\n",
              "      border-color: transparent;\n",
              "      border-bottom-color: var(--fill-color);\n",
              "    }\n",
              "  }\n",
              "</style>\n",
              "\n",
              "  <script>\n",
              "    async function quickchart(key) {\n",
              "      const quickchartButtonEl =\n",
              "        document.querySelector('#' + key + ' button');\n",
              "      quickchartButtonEl.disabled = true;  // To prevent multiple clicks.\n",
              "      quickchartButtonEl.classList.add('colab-df-spinner');\n",
              "      try {\n",
              "        const charts = await google.colab.kernel.invokeFunction(\n",
              "            'suggestCharts', [key], {});\n",
              "      } catch (error) {\n",
              "        console.error('Error during call to suggestCharts:', error);\n",
              "      }\n",
              "      quickchartButtonEl.classList.remove('colab-df-spinner');\n",
              "      quickchartButtonEl.classList.add('colab-df-quickchart-complete');\n",
              "    }\n",
              "    (() => {\n",
              "      let quickchartButtonEl =\n",
              "        document.querySelector('#df-3ee00db6-5d77-404a-9f33-e872de7a4a81 button');\n",
              "      quickchartButtonEl.style.display =\n",
              "        google.colab.kernel.accessAllowed ? 'block' : 'none';\n",
              "    })();\n",
              "  </script>\n",
              "</div>\n",
              "\n",
              "    </div>\n",
              "  </div>\n"
            ],
            "application/vnd.google.colaboratory.intrinsic+json": {
              "type": "dataframe",
              "variable_name": "df",
              "summary": "{\n  \"name\": \"df\",\n  \"rows\": 100,\n  \"fields\": [\n    {\n      \"column\": \"No. Pelanggan\",\n      \"properties\": {\n        \"dtype\": \"number\",\n        \"std\": 29,\n        \"min\": 1,\n        \"max\": 100,\n        \"num_unique_values\": 100,\n        \"samples\": [\n          84,\n          54,\n          71\n        ],\n        \"semantic_type\": \"\",\n        \"description\": \"\"\n      }\n    },\n    {\n      \"column\": \"Jumlah Pesanan\",\n      \"properties\": {\n        \"dtype\": \"number\",\n        \"std\": 3,\n        \"min\": 1,\n        \"max\": 15,\n        \"num_unique_values\": 12,\n        \"samples\": [\n          2,\n          3,\n          15\n        ],\n        \"semantic_type\": \"\",\n        \"description\": \"\"\n      }\n    },\n    {\n      \"column\": \"Total Belanja\",\n      \"properties\": {\n        \"dtype\": \"string\",\n        \"num_unique_values\": 100,\n        \"samples\": [\n          \" Rp 108,555 \",\n          \" Rp 108,367 \",\n          \" Rp 117,613 \"\n        ],\n        \"semantic_type\": \"\",\n        \"description\": \"\"\n      }\n    },\n    {\n      \"column\": \"Jenis Buku\",\n      \"properties\": {\n        \"dtype\": \"category\",\n        \"num_unique_values\": 5,\n        \"samples\": [\n          \"Pendidikan\",\n          \"Manga\",\n          \"Novel\"\n        ],\n        \"semantic_type\": \"\",\n        \"description\": \"\"\n      }\n    }\n  ]\n}"
            }
          },
          "metadata": {},
          "execution_count": 22
        }
      ]
    },
    {
      "cell_type": "code",
      "execution_count": null,
      "metadata": {
        "id": "6pGH9fMtgOt6",
        "colab": {
          "base_uri": "https://localhost:8080/"
        },
        "outputId": "d70656be-a3da-45cc-cfce-77909e89e52b"
      },
      "outputs": [
        {
          "output_type": "stream",
          "name": "stdout",
          "text": [
            "<class 'pandas.core.frame.DataFrame'>\n",
            "RangeIndex: 100 entries, 0 to 99\n",
            "Data columns (total 4 columns):\n",
            " #   Column          Non-Null Count  Dtype \n",
            "---  ------          --------------  ----- \n",
            " 0   No. Pelanggan   100 non-null    int64 \n",
            " 1   Jumlah Pesanan  100 non-null    int64 \n",
            " 2   Total Belanja   100 non-null    object\n",
            " 3   Jenis Buku      100 non-null    object\n",
            "dtypes: int64(2), object(2)\n",
            "memory usage: 3.2+ KB\n"
          ]
        }
      ],
      "source": [
        "df.info()"
      ]
    },
    {
      "cell_type": "code",
      "source": [
        "df.dtypes"
      ],
      "metadata": {
        "colab": {
          "base_uri": "https://localhost:8080/",
          "height": 210
        },
        "id": "P8LsPHxQLxn2",
        "outputId": "3db6ca40-abb7-4b4e-b16d-e5207a3a23f3"
      },
      "execution_count": null,
      "outputs": [
        {
          "output_type": "execute_result",
          "data": {
            "text/plain": [
              "No. Pelanggan      int64\n",
              "Jumlah Pesanan     int64\n",
              "Total Belanja     object\n",
              "Jenis Buku        object\n",
              "dtype: object"
            ],
            "text/html": [
              "<div>\n",
              "<style scoped>\n",
              "    .dataframe tbody tr th:only-of-type {\n",
              "        vertical-align: middle;\n",
              "    }\n",
              "\n",
              "    .dataframe tbody tr th {\n",
              "        vertical-align: top;\n",
              "    }\n",
              "\n",
              "    .dataframe thead th {\n",
              "        text-align: right;\n",
              "    }\n",
              "</style>\n",
              "<table border=\"1\" class=\"dataframe\">\n",
              "  <thead>\n",
              "    <tr style=\"text-align: right;\">\n",
              "      <th></th>\n",
              "      <th>0</th>\n",
              "    </tr>\n",
              "  </thead>\n",
              "  <tbody>\n",
              "    <tr>\n",
              "      <th>No. Pelanggan</th>\n",
              "      <td>int64</td>\n",
              "    </tr>\n",
              "    <tr>\n",
              "      <th>Jumlah Pesanan</th>\n",
              "      <td>int64</td>\n",
              "    </tr>\n",
              "    <tr>\n",
              "      <th>Total Belanja</th>\n",
              "      <td>object</td>\n",
              "    </tr>\n",
              "    <tr>\n",
              "      <th>Jenis Buku</th>\n",
              "      <td>object</td>\n",
              "    </tr>\n",
              "  </tbody>\n",
              "</table>\n",
              "</div><br><label><b>dtype:</b> object</label>"
            ]
          },
          "metadata": {},
          "execution_count": 24
        }
      ]
    },
    {
      "cell_type": "code",
      "source": [
        "df.isnull().sum()"
      ],
      "metadata": {
        "colab": {
          "base_uri": "https://localhost:8080/",
          "height": 210
        },
        "id": "a2RkaQIwfVrn",
        "outputId": "e66d64c8-ed51-4921-bc38-80c8858847ef"
      },
      "execution_count": null,
      "outputs": [
        {
          "output_type": "execute_result",
          "data": {
            "text/plain": [
              "No. Pelanggan     0\n",
              "Jumlah Pesanan    0\n",
              "Total Belanja     0\n",
              "Jenis Buku        0\n",
              "dtype: int64"
            ],
            "text/html": [
              "<div>\n",
              "<style scoped>\n",
              "    .dataframe tbody tr th:only-of-type {\n",
              "        vertical-align: middle;\n",
              "    }\n",
              "\n",
              "    .dataframe tbody tr th {\n",
              "        vertical-align: top;\n",
              "    }\n",
              "\n",
              "    .dataframe thead th {\n",
              "        text-align: right;\n",
              "    }\n",
              "</style>\n",
              "<table border=\"1\" class=\"dataframe\">\n",
              "  <thead>\n",
              "    <tr style=\"text-align: right;\">\n",
              "      <th></th>\n",
              "      <th>0</th>\n",
              "    </tr>\n",
              "  </thead>\n",
              "  <tbody>\n",
              "    <tr>\n",
              "      <th>No. Pelanggan</th>\n",
              "      <td>0</td>\n",
              "    </tr>\n",
              "    <tr>\n",
              "      <th>Jumlah Pesanan</th>\n",
              "      <td>0</td>\n",
              "    </tr>\n",
              "    <tr>\n",
              "      <th>Total Belanja</th>\n",
              "      <td>0</td>\n",
              "    </tr>\n",
              "    <tr>\n",
              "      <th>Jenis Buku</th>\n",
              "      <td>0</td>\n",
              "    </tr>\n",
              "  </tbody>\n",
              "</table>\n",
              "</div><br><label><b>dtype:</b> int64</label>"
            ]
          },
          "metadata": {},
          "execution_count": 25
        }
      ]
    },
    {
      "cell_type": "code",
      "source": [
        "df.duplicated().sum()"
      ],
      "metadata": {
        "colab": {
          "base_uri": "https://localhost:8080/"
        },
        "id": "GnSq2BYefbNj",
        "outputId": "1b7f0350-a7c2-40da-b5b0-395e8bd33dc7"
      },
      "execution_count": null,
      "outputs": [
        {
          "output_type": "execute_result",
          "data": {
            "text/plain": [
              "0"
            ]
          },
          "metadata": {},
          "execution_count": 26
        }
      ]
    },
    {
      "cell_type": "code",
      "source": [
        "# Membersihkan data\n",
        "df[\"Total Belanja\"] = df[\"Total Belanja\"].replace({'Rp': '', ',': ''}, regex=True).astype(float)"
      ],
      "metadata": {
        "id": "wyidxOf4Meqt"
      },
      "execution_count": null,
      "outputs": []
    },
    {
      "cell_type": "code",
      "source": [
        "# Mengonversi ke tipe int64\n",
        "df[\"Total Belanja\"] = df[\"Total Belanja\"].astype(np.int64)"
      ],
      "metadata": {
        "id": "H4CwgdU7jamH"
      },
      "execution_count": null,
      "outputs": []
    },
    {
      "cell_type": "code",
      "source": [
        "df.head()"
      ],
      "metadata": {
        "colab": {
          "base_uri": "https://localhost:8080/",
          "height": 206
        },
        "id": "8wFYCyiLjtWA",
        "outputId": "07e63c62-4cf6-45e2-d5f0-01759c7d5140"
      },
      "execution_count": null,
      "outputs": [
        {
          "output_type": "execute_result",
          "data": {
            "text/plain": [
              "   No. Pelanggan  Jumlah Pesanan  Total Belanja  Jenis Buku\n",
              "0              1              15        1858795       Komik\n",
              "1              2              15        1958279  Pendidikan\n",
              "2              3              15        1904515       Komik\n",
              "3              4              14        1882220       Novel\n",
              "4              5              14        2026773       Komik"
            ],
            "text/html": [
              "\n",
              "  <div id=\"df-ce49e491-7218-48fc-9deb-a7f1282f13e4\" class=\"colab-df-container\">\n",
              "    <div>\n",
              "<style scoped>\n",
              "    .dataframe tbody tr th:only-of-type {\n",
              "        vertical-align: middle;\n",
              "    }\n",
              "\n",
              "    .dataframe tbody tr th {\n",
              "        vertical-align: top;\n",
              "    }\n",
              "\n",
              "    .dataframe thead th {\n",
              "        text-align: right;\n",
              "    }\n",
              "</style>\n",
              "<table border=\"1\" class=\"dataframe\">\n",
              "  <thead>\n",
              "    <tr style=\"text-align: right;\">\n",
              "      <th></th>\n",
              "      <th>No. Pelanggan</th>\n",
              "      <th>Jumlah Pesanan</th>\n",
              "      <th>Total Belanja</th>\n",
              "      <th>Jenis Buku</th>\n",
              "    </tr>\n",
              "  </thead>\n",
              "  <tbody>\n",
              "    <tr>\n",
              "      <th>0</th>\n",
              "      <td>1</td>\n",
              "      <td>15</td>\n",
              "      <td>1858795</td>\n",
              "      <td>Komik</td>\n",
              "    </tr>\n",
              "    <tr>\n",
              "      <th>1</th>\n",
              "      <td>2</td>\n",
              "      <td>15</td>\n",
              "      <td>1958279</td>\n",
              "      <td>Pendidikan</td>\n",
              "    </tr>\n",
              "    <tr>\n",
              "      <th>2</th>\n",
              "      <td>3</td>\n",
              "      <td>15</td>\n",
              "      <td>1904515</td>\n",
              "      <td>Komik</td>\n",
              "    </tr>\n",
              "    <tr>\n",
              "      <th>3</th>\n",
              "      <td>4</td>\n",
              "      <td>14</td>\n",
              "      <td>1882220</td>\n",
              "      <td>Novel</td>\n",
              "    </tr>\n",
              "    <tr>\n",
              "      <th>4</th>\n",
              "      <td>5</td>\n",
              "      <td>14</td>\n",
              "      <td>2026773</td>\n",
              "      <td>Komik</td>\n",
              "    </tr>\n",
              "  </tbody>\n",
              "</table>\n",
              "</div>\n",
              "    <div class=\"colab-df-buttons\">\n",
              "\n",
              "  <div class=\"colab-df-container\">\n",
              "    <button class=\"colab-df-convert\" onclick=\"convertToInteractive('df-ce49e491-7218-48fc-9deb-a7f1282f13e4')\"\n",
              "            title=\"Convert this dataframe to an interactive table.\"\n",
              "            style=\"display:none;\">\n",
              "\n",
              "  <svg xmlns=\"http://www.w3.org/2000/svg\" height=\"24px\" viewBox=\"0 -960 960 960\">\n",
              "    <path d=\"M120-120v-720h720v720H120Zm60-500h600v-160H180v160Zm220 220h160v-160H400v160Zm0 220h160v-160H400v160ZM180-400h160v-160H180v160Zm440 0h160v-160H620v160ZM180-180h160v-160H180v160Zm440 0h160v-160H620v160Z\"/>\n",
              "  </svg>\n",
              "    </button>\n",
              "\n",
              "  <style>\n",
              "    .colab-df-container {\n",
              "      display:flex;\n",
              "      gap: 12px;\n",
              "    }\n",
              "\n",
              "    .colab-df-convert {\n",
              "      background-color: #E8F0FE;\n",
              "      border: none;\n",
              "      border-radius: 50%;\n",
              "      cursor: pointer;\n",
              "      display: none;\n",
              "      fill: #1967D2;\n",
              "      height: 32px;\n",
              "      padding: 0 0 0 0;\n",
              "      width: 32px;\n",
              "    }\n",
              "\n",
              "    .colab-df-convert:hover {\n",
              "      background-color: #E2EBFA;\n",
              "      box-shadow: 0px 1px 2px rgba(60, 64, 67, 0.3), 0px 1px 3px 1px rgba(60, 64, 67, 0.15);\n",
              "      fill: #174EA6;\n",
              "    }\n",
              "\n",
              "    .colab-df-buttons div {\n",
              "      margin-bottom: 4px;\n",
              "    }\n",
              "\n",
              "    [theme=dark] .colab-df-convert {\n",
              "      background-color: #3B4455;\n",
              "      fill: #D2E3FC;\n",
              "    }\n",
              "\n",
              "    [theme=dark] .colab-df-convert:hover {\n",
              "      background-color: #434B5C;\n",
              "      box-shadow: 0px 1px 3px 1px rgba(0, 0, 0, 0.15);\n",
              "      filter: drop-shadow(0px 1px 2px rgba(0, 0, 0, 0.3));\n",
              "      fill: #FFFFFF;\n",
              "    }\n",
              "  </style>\n",
              "\n",
              "    <script>\n",
              "      const buttonEl =\n",
              "        document.querySelector('#df-ce49e491-7218-48fc-9deb-a7f1282f13e4 button.colab-df-convert');\n",
              "      buttonEl.style.display =\n",
              "        google.colab.kernel.accessAllowed ? 'block' : 'none';\n",
              "\n",
              "      async function convertToInteractive(key) {\n",
              "        const element = document.querySelector('#df-ce49e491-7218-48fc-9deb-a7f1282f13e4');\n",
              "        const dataTable =\n",
              "          await google.colab.kernel.invokeFunction('convertToInteractive',\n",
              "                                                    [key], {});\n",
              "        if (!dataTable) return;\n",
              "\n",
              "        const docLinkHtml = 'Like what you see? Visit the ' +\n",
              "          '<a target=\"_blank\" href=https://colab.research.google.com/notebooks/data_table.ipynb>data table notebook</a>'\n",
              "          + ' to learn more about interactive tables.';\n",
              "        element.innerHTML = '';\n",
              "        dataTable['output_type'] = 'display_data';\n",
              "        await google.colab.output.renderOutput(dataTable, element);\n",
              "        const docLink = document.createElement('div');\n",
              "        docLink.innerHTML = docLinkHtml;\n",
              "        element.appendChild(docLink);\n",
              "      }\n",
              "    </script>\n",
              "  </div>\n",
              "\n",
              "\n",
              "<div id=\"df-3017a1d6-1e72-4836-8852-eb7bff846fe4\">\n",
              "  <button class=\"colab-df-quickchart\" onclick=\"quickchart('df-3017a1d6-1e72-4836-8852-eb7bff846fe4')\"\n",
              "            title=\"Suggest charts\"\n",
              "            style=\"display:none;\">\n",
              "\n",
              "<svg xmlns=\"http://www.w3.org/2000/svg\" height=\"24px\"viewBox=\"0 0 24 24\"\n",
              "     width=\"24px\">\n",
              "    <g>\n",
              "        <path d=\"M19 3H5c-1.1 0-2 .9-2 2v14c0 1.1.9 2 2 2h14c1.1 0 2-.9 2-2V5c0-1.1-.9-2-2-2zM9 17H7v-7h2v7zm4 0h-2V7h2v10zm4 0h-2v-4h2v4z\"/>\n",
              "    </g>\n",
              "</svg>\n",
              "  </button>\n",
              "\n",
              "<style>\n",
              "  .colab-df-quickchart {\n",
              "      --bg-color: #E8F0FE;\n",
              "      --fill-color: #1967D2;\n",
              "      --hover-bg-color: #E2EBFA;\n",
              "      --hover-fill-color: #174EA6;\n",
              "      --disabled-fill-color: #AAA;\n",
              "      --disabled-bg-color: #DDD;\n",
              "  }\n",
              "\n",
              "  [theme=dark] .colab-df-quickchart {\n",
              "      --bg-color: #3B4455;\n",
              "      --fill-color: #D2E3FC;\n",
              "      --hover-bg-color: #434B5C;\n",
              "      --hover-fill-color: #FFFFFF;\n",
              "      --disabled-bg-color: #3B4455;\n",
              "      --disabled-fill-color: #666;\n",
              "  }\n",
              "\n",
              "  .colab-df-quickchart {\n",
              "    background-color: var(--bg-color);\n",
              "    border: none;\n",
              "    border-radius: 50%;\n",
              "    cursor: pointer;\n",
              "    display: none;\n",
              "    fill: var(--fill-color);\n",
              "    height: 32px;\n",
              "    padding: 0;\n",
              "    width: 32px;\n",
              "  }\n",
              "\n",
              "  .colab-df-quickchart:hover {\n",
              "    background-color: var(--hover-bg-color);\n",
              "    box-shadow: 0 1px 2px rgba(60, 64, 67, 0.3), 0 1px 3px 1px rgba(60, 64, 67, 0.15);\n",
              "    fill: var(--button-hover-fill-color);\n",
              "  }\n",
              "\n",
              "  .colab-df-quickchart-complete:disabled,\n",
              "  .colab-df-quickchart-complete:disabled:hover {\n",
              "    background-color: var(--disabled-bg-color);\n",
              "    fill: var(--disabled-fill-color);\n",
              "    box-shadow: none;\n",
              "  }\n",
              "\n",
              "  .colab-df-spinner {\n",
              "    border: 2px solid var(--fill-color);\n",
              "    border-color: transparent;\n",
              "    border-bottom-color: var(--fill-color);\n",
              "    animation:\n",
              "      spin 1s steps(1) infinite;\n",
              "  }\n",
              "\n",
              "  @keyframes spin {\n",
              "    0% {\n",
              "      border-color: transparent;\n",
              "      border-bottom-color: var(--fill-color);\n",
              "      border-left-color: var(--fill-color);\n",
              "    }\n",
              "    20% {\n",
              "      border-color: transparent;\n",
              "      border-left-color: var(--fill-color);\n",
              "      border-top-color: var(--fill-color);\n",
              "    }\n",
              "    30% {\n",
              "      border-color: transparent;\n",
              "      border-left-color: var(--fill-color);\n",
              "      border-top-color: var(--fill-color);\n",
              "      border-right-color: var(--fill-color);\n",
              "    }\n",
              "    40% {\n",
              "      border-color: transparent;\n",
              "      border-right-color: var(--fill-color);\n",
              "      border-top-color: var(--fill-color);\n",
              "    }\n",
              "    60% {\n",
              "      border-color: transparent;\n",
              "      border-right-color: var(--fill-color);\n",
              "    }\n",
              "    80% {\n",
              "      border-color: transparent;\n",
              "      border-right-color: var(--fill-color);\n",
              "      border-bottom-color: var(--fill-color);\n",
              "    }\n",
              "    90% {\n",
              "      border-color: transparent;\n",
              "      border-bottom-color: var(--fill-color);\n",
              "    }\n",
              "  }\n",
              "</style>\n",
              "\n",
              "  <script>\n",
              "    async function quickchart(key) {\n",
              "      const quickchartButtonEl =\n",
              "        document.querySelector('#' + key + ' button');\n",
              "      quickchartButtonEl.disabled = true;  // To prevent multiple clicks.\n",
              "      quickchartButtonEl.classList.add('colab-df-spinner');\n",
              "      try {\n",
              "        const charts = await google.colab.kernel.invokeFunction(\n",
              "            'suggestCharts', [key], {});\n",
              "      } catch (error) {\n",
              "        console.error('Error during call to suggestCharts:', error);\n",
              "      }\n",
              "      quickchartButtonEl.classList.remove('colab-df-spinner');\n",
              "      quickchartButtonEl.classList.add('colab-df-quickchart-complete');\n",
              "    }\n",
              "    (() => {\n",
              "      let quickchartButtonEl =\n",
              "        document.querySelector('#df-3017a1d6-1e72-4836-8852-eb7bff846fe4 button');\n",
              "      quickchartButtonEl.style.display =\n",
              "        google.colab.kernel.accessAllowed ? 'block' : 'none';\n",
              "    })();\n",
              "  </script>\n",
              "</div>\n",
              "\n",
              "    </div>\n",
              "  </div>\n"
            ],
            "application/vnd.google.colaboratory.intrinsic+json": {
              "type": "dataframe",
              "variable_name": "df",
              "summary": "{\n  \"name\": \"df\",\n  \"rows\": 100,\n  \"fields\": [\n    {\n      \"column\": \"No. Pelanggan\",\n      \"properties\": {\n        \"dtype\": \"number\",\n        \"std\": 29,\n        \"min\": 1,\n        \"max\": 100,\n        \"num_unique_values\": 100,\n        \"samples\": [\n          84,\n          54,\n          71\n        ],\n        \"semantic_type\": \"\",\n        \"description\": \"\"\n      }\n    },\n    {\n      \"column\": \"Jumlah Pesanan\",\n      \"properties\": {\n        \"dtype\": \"number\",\n        \"std\": 3,\n        \"min\": 1,\n        \"max\": 15,\n        \"num_unique_values\": 12,\n        \"samples\": [\n          2,\n          3,\n          15\n        ],\n        \"semantic_type\": \"\",\n        \"description\": \"\"\n      }\n    },\n    {\n      \"column\": \"Total Belanja\",\n      \"properties\": {\n        \"dtype\": \"number\",\n        \"std\": 720539,\n        \"min\": 100011,\n        \"max\": 3190677,\n        \"num_unique_values\": 100,\n        \"samples\": [\n          108555,\n          108367,\n          117613\n        ],\n        \"semantic_type\": \"\",\n        \"description\": \"\"\n      }\n    },\n    {\n      \"column\": \"Jenis Buku\",\n      \"properties\": {\n        \"dtype\": \"category\",\n        \"num_unique_values\": 5,\n        \"samples\": [\n          \"Pendidikan\",\n          \"Manga\",\n          \"Novel\"\n        ],\n        \"semantic_type\": \"\",\n        \"description\": \"\"\n      }\n    }\n  ]\n}"
            }
          },
          "metadata": {},
          "execution_count": 29
        }
      ]
    },
    {
      "cell_type": "markdown",
      "source": [
        "## Soal 1\n",
        "Tim BukuKita menduga bahwa sejumlah kecil pelanggan mungkin menyumbang sebagian besar pendapatan mereka. Mereka ingin mengetahui apakah hipotesis ini benar dengan menganalisis distribusi kontribusi pelanggan terhadap total nilai transaksi (GMV). Apakah terdapat kelompok kecil pelanggan yang mendominasi GMV?"
      ],
      "metadata": {
        "id": "M3z5ctbFKpqq"
      }
    },
    {
      "cell_type": "markdown",
      "source": [
        "### Jawab :"
      ],
      "metadata": {
        "id": "F41MXrk4Jcd2"
      }
    },
    {
      "cell_type": "code",
      "source": [
        "## Visualisasi\n",
        "plt.figure(figsize=(10, 6))\n",
        "sns.histplot(df[\"Total Belanja\"], kde=True, bins=10)\n",
        "plt.xlabel(\"Total Belanja (Rp)\")\n",
        "plt.ylabel(\"Frekuensi Pelanggan\")\n",
        "plt.title(\"Distribusi GMV (Total Belanja)\")\n",
        "plt.legend()\n",
        "plt.show()"
      ],
      "metadata": {
        "id": "at75CDu3ycdT",
        "colab": {
          "base_uri": "https://localhost:8080/",
          "height": 601
        },
        "outputId": "5a163982-4edb-4384-ada2-343b29fa5e75"
      },
      "execution_count": null,
      "outputs": [
        {
          "output_type": "stream",
          "name": "stderr",
          "text": [
            "WARNING:matplotlib.legend:No artists with labels found to put in legend.  Note that artists whose label start with an underscore are ignored when legend() is called with no argument.\n"
          ]
        },
        {
          "output_type": "display_data",
          "data": {
            "text/plain": [
              "<Figure size 1000x600 with 1 Axes>"
            ],
            "image/png": "[encoded data removed]"
          },
          "metadata": {}
        }
      ]
    },
    {
      "cell_type": "markdown",
      "source": [
        "### Analisis :"
      ],
      "metadata": {
        "id": "7eTIAm43JO69"
      }
    },
    {
      "cell_type": "markdown",
      "source": [
        "- 1. Mayoritas Pelanggan memiliki GMV Rendah\n",
        "    - Sebagian besar pelanggan memiliki nilai transaksi rendah (GMV). Hal ini ditujukkan oleh tingginya frekuensi pada nilai GMV yang mendekati nol atau relatif rendah.\n",
        "    - Ini menunjukkan bahwa sebagian besar pelanggan melakukan pembelian hanya dalam jumlah kecil atau hanya sesekali belanja.\n",
        "- 2. Distribusi Tidak Merata dan Memiliki Skewness Positif\n",
        "    - Distribusi GMV memiliki kemiringan (skew) positif yang kuat, dimana sebagian nilai berada di sumbu x, dengan sedikit memiliki GMV tinggi.\n",
        "    - Hal ini menunjukkan bahwa hanya sedikit pelanggan yang membeli atau menyumbang nilai transaksi lebih besar dibandingkan mayoritas pelanggan lainnya.\n",
        "- 3. Peluang Segmentasi dan Fokus pada Pelanggan Besar\n",
        "    - Dengan adanya sebagian pelanggan memiliki GMV tinggi, ini bisa menjadi indikasi bahwa adanya pelanggan tertentu yang berharga bagi toko dengan kontribusi total terhadap GMV.\n",
        "- 4. Konfirmasi Distribusi Pareto (80/20 Rule)\n",
        "    - Dimana sekitar 20% pelanggan berkontribusi terhadap 80% dari total GMV.\n",
        "    \n",
        "20% pelanggan dengan total belanja tertinggi menyumbang sekitar 80% dari total nilai transaksi (Gross Merchandise Value).\n",
        "Hal ini menunjukkan bahwa sekelompok kecil pelanggan memang mendominasi GMV di BukuKita, yang berarti sebagian besar pendapatan berasal dari sejumlah kecil pelanggan setia yang berbelanja dalam jumlah besar.\n"
      ],
      "metadata": {
        "id": "KZztQdQEJo6Q"
      }
    },
    {
      "cell_type": "markdown",
      "source": [
        "## Soal 2\n",
        "BukuKita menjual berbagai jenis buku, termasuk komik, novel, manga, kitab suci, dan buku pendidikan. Tim Data Analyst ingin mengetahui apakah ada kategori buku tertentu yang lebih banyak diminati dan menyumbang pendapatan lebih besar. Dari data penjualan yang ada, bagaimana pola pembelian berdasarkan jenis buku? Apakah ada satu atau lebih kategori buku yang mendominasi total nilai transaksi?\n"
      ],
      "metadata": {
        "id": "qqf9RU-GySIY"
      }
    },
    {
      "cell_type": "markdown",
      "source": [
        "### Jawab :"
      ],
      "metadata": {
        "id": "_hzrDZrBXzLX"
      }
    },
    {
      "cell_type": "code",
      "source": [
        "## Visualisasi\n",
        "plt.figure(figsize=(10,6))\n",
        "sns.barplot(x=\"Jenis Buku\", y=\"Total Belanja\", data=df, ci=None, estimator =sum)\n",
        "plt.xlabel(\"Jenis Buku\")\n",
        "plt.ylabel(\"Total Penjualan\")\n",
        "plt.title(\"Total Penjualan Berdasarkan Jenis Buku\")\n",
        "plt.show()"
      ],
      "metadata": {
        "id": "YbWwyAYqyAzX",
        "colab": {
          "base_uri": "https://localhost:8080/",
          "height": 651
        },
        "outputId": "e61a0166-9681-4fa0-a6af-1df4be2290e2"
      },
      "execution_count": null,
      "outputs": [
        {
          "output_type": "stream",
          "name": "stderr",
          "text": [
            "<ipython-input-31-87b31a22229c>:3: FutureWarning: \n",
            "\n",
            "The `ci` parameter is deprecated. Use `errorbar=None` for the same effect.\n",
            "\n",
            "  sns.barplot(x=\"Jenis Buku\", y=\"Total Belanja\", data=df, ci=None, estimator =sum)\n"
          ]
        },
        {
          "output_type": "display_data",
          "data": {
            "text/plain": [
              "<Figure size 1000x600 with 1 Axes>"
            ],
            "image/png": "[encoded data removed]"
          },
          "metadata": {}
        }
      ]
    },
    {
      "cell_type": "code",
      "source": [
        "## Visualisasi\n",
        "plt.figure(figsize=(10,6))\n",
        "sns.countplot(x=\"Jenis Buku\", data=df)\n",
        "plt.xlabel(\"Jenis Buku\")\n",
        "plt.ylabel(\"Jumlah Pesanan\")\n",
        "plt.title(\"Jumlah Pesanan Berdasarkan Jenis Buku\")\n",
        "plt.show()"
      ],
      "metadata": {
        "colab": {
          "base_uri": "https://localhost:8080/",
          "height": 564
        },
        "id": "Mb3vLv4ygnNS",
        "outputId": "f173fb23-c20b-449c-c8dd-14a583189279"
      },
      "execution_count": null,
      "outputs": [
        {
          "output_type": "display_data",
          "data": {
            "text/plain": [
              "<Figure size 1000x600 with 1 Axes>"
            ],
            "image/png": "[encoded data removed]"
          },
          "metadata": {}
        }
      ]
    },
    {
      "cell_type": "markdown",
      "source": [
        "### Analisis :"
      ],
      "metadata": {
        "id": "MAGb_sakX8wR"
      }
    },
    {
      "cell_type": "markdown",
      "source": [
        "- 1. Total Penjualan Berdasarkan Jenis Buku: Kategori Komik memiliki total penjualan tertinggi, diikuti oleh Novel, Manga, dan Kitab Suci. Kategori Pendidikan memiliki total penjualan yang lebih rendah dibanding kategori lainnya.\n",
        "- 2. Jumlah Pesanan Berdasarkan Jenis Buku: Manga juga mendominasi dari segi jumlah pesanan, diikuti oleh Pendidikan, komik, Novel, dan Kitab Suci.\n",
        "\n"
      ],
      "metadata": {
        "id": "GzYasfW4YAoK"
      }
    },
    {
      "cell_type": "markdown",
      "source": [
        "## Soal 3\n",
        "BukuKita mengamati bahwa ada pelanggan yang memesan dalam jumlah besar, tetapi mereka tidak yakin apakah jumlah pesanan yang tinggi selalu berkorelasi dengan total belanja yang lebih besar. Dengan menggunakan data penjualan yang ada, bantu tim Data Analyst memeriksa hubungan antara jumlah pesanan dengan nilai transaksi (GMV). Apakah pelanggan yang melakukan jumlah pesanan lebih banyak juga menghasilkan nilai transaksi yang lebih besar?\n"
      ],
      "metadata": {
        "id": "EX_MPzVjj9Xo"
      }
    },
    {
      "cell_type": "markdown",
      "source": [
        "### Jawab :"
      ],
      "metadata": {
        "id": "qSjIr6CUZlVl"
      }
    },
    {
      "cell_type": "code",
      "source": [
        "## Visualisasi\n",
        "plt.figure(figsize=(10,6))\n",
        "sns.scatterplot(x=\"Jumlah Pesanan\", y=\"Total Belanja\", data=df)\n",
        "plt.xlabel(\"Jumlah Pesanan\")\n",
        "plt.ylabel(\"Total Belanja\")\n",
        "plt.title(\"Hubungan Antara Jumlah Pesanan dan Total Belanja (GMV)\")\n",
        "plt.show()"
      ],
      "metadata": {
        "colab": {
          "base_uri": "https://localhost:8080/",
          "height": 564
        },
        "id": "jZsXh2wlnhZ3",
        "outputId": "fb6736ff-4707-484c-a9e6-5552454e83d2"
      },
      "execution_count": null,
      "outputs": [
        {
          "output_type": "display_data",
          "data": {
            "text/plain": [
              "<Figure size 1000x600 with 1 Axes>"
            ],
            "image/png": "[encoded data removed]"
          },
          "metadata": {}
        }
      ]
    },
    {
      "cell_type": "markdown",
      "source": [
        "### Analisis :"
      ],
      "metadata": {
        "id": "K-hIdjbqaM1H"
      }
    },
    {
      "cell_type": "markdown",
      "source": [
        "Hasil analisis menunjukkan bahwa terdapat korelasi positif yang kuat antara Jumlah Pesanan dan Total Belanja dengan nilai korelasi sebesar 0.86. Ini berarti bahwa pelanggan yang melakukan lebih banyak pesanan cenderung menghasilkan nilai transaksi yang lebih besar.\n"
      ],
      "metadata": {
        "id": "NZtgmJGAaSMu"
      }
    },
    {
      "cell_type": "markdown",
      "source": [
        "## Soal 4\n",
        "Setiap pelanggan BukuKita memiliki kontribusi yang berbeda-beda terhadap total GMV. Tim Data Analyst ingin mengetahui apakah ada pelanggan tertentu yang sangat mendominasi nilai transaksi toko. Mereka juga ingin melihat apakah distribusi kontribusi pelanggan terhadap GMV cenderung merata atau hanya beberapa pelanggan yang menyumbang lebih banyak dari yang lain."
      ],
      "metadata": {
        "id": "D8ncFYybt0aE"
      }
    },
    {
      "cell_type": "markdown",
      "source": [
        "### Jawab :"
      ],
      "metadata": {
        "id": "729O6Y1FfFa8"
      }
    },
    {
      "cell_type": "code",
      "source": [
        "## Menghitung Total GMV per Pelanggan\n",
        "customer_gmv = df.groupby(\"No. Pelanggan\")[\"Total Belanja\"].sum().reset_index()\n",
        "customer_gmv = customer_gmv.sort_values(by=\"Total Belanja\", ascending=False)"
      ],
      "metadata": {
        "id": "EIyZWjaWrBiL"
      },
      "execution_count": null,
      "outputs": []
    },
    {
      "cell_type": "markdown",
      "source": [
        "- 1. Pareto Chart (Cumulative percentage plot)"
      ],
      "metadata": {
        "id": "ujMISKesvQ8g"
      }
    },
    {
      "cell_type": "code",
      "source": [
        "customer_gmv[\"Cumulative Percentage\"] = customer_gmv[\"Total Belanja\"].cumsum() / customer_gmv[\"Total Belanja\"].sum() * 100\n",
        "# Plot Pareto Chart (Cumulative Percentage Plot)\n",
        "plt.figure(figsize=(17, 13))\n",
        "sns.barplot(x=customer_gmv.index, y=\"Total Belanja\", data=customer_gmv, color=\"blue\")\n",
        "plt.plot(customer_gmv.index, customer_gmv[\"Cumulative Percentage\"], color=\"orange\", marker=\"o\")\n",
        "plt.xlabel(\"Pelanggan\")\n",
        "plt.ylabel(\"Total Belanja (GMV)\")\n",
        "plt.title(\"Pareto Chart: Kontribusi Pelanggan terhadap GMV\")\n",
        "plt.axhline(80, color=\"red\", linestyle=\"--\", label=\"80% GMV Target\")\n",
        "plt.xticks(rotation=90)\n",
        "plt.show()"
      ],
      "metadata": {
        "colab": {
          "base_uri": "https://localhost:8080/",
          "height": 756
        },
        "id": "ja1o8UurvJ-y",
        "outputId": "ccc1145d-45fb-4cc2-bc18-e885b6bb774d"
      },
      "execution_count": null,
      "outputs": [
        {
          "output_type": "display_data",
          "data": {
            "text/plain": [
              "<Figure size 1700x1300 with 1 Axes>"
            ],
            "image/png": "[encoded data removed]"
          },
          "metadata": {}
        }
      ]
    },
    {
      "cell_type": "markdown",
      "source": [
        "### Analisis :"
      ],
      "metadata": {
        "id": "3Iqnqk9GeGSD"
      }
    },
    {
      "cell_type": "markdown",
      "source": [
        "Grafik Pareto ini dengan jelas menunjukkan bahwa sebagian kecil pelanggan bertanggung jawab atas sebagian besar GMV. Dengan memahami dan memfokuskan pada segmen pelanggan dengan kontribusi tinggi ini, BukuKita dapat mengalokasikan sumber daya dengan lebih strategis untuk mempertahankan pelanggan-pelanggan tersebut dan berpotensi meningkatkan kontribusi mereka lebih lanjut."
      ],
      "metadata": {
        "id": "Csm9BQJjeJ7r"
      }
    },
    {
      "cell_type": "markdown",
      "source": [
        "- 2. Top 10 Pelanggan dengan Kontribusi GMV Tertinggi"
      ],
      "metadata": {
        "id": "ZUS0rXUc5j8P"
      }
    },
    {
      "cell_type": "code",
      "source": [
        "top_10 = customer_gmv.head(10)\n",
        "plt.figure(figsize=(10,6))\n",
        "sns.barplot(x=\"No. Pelanggan\", y=\"Total Belanja\", data=top_10)\n",
        "plt.xlabel(\"No. Pelanggan\")\n",
        "plt.ylabel(\"Total Belanja (GMV)\")\n",
        "plt.title(\"Top 10 Pelanggan dengan Kontribusi GMV Tertinggi\")\n",
        "plt.show()"
      ],
      "metadata": {
        "colab": {
          "base_uri": "https://localhost:8080/",
          "height": 564
        },
        "id": "j7a6yNVD5RHD",
        "outputId": "e2311008-80f8-4178-cb55-2641fa1a7325"
      },
      "execution_count": null,
      "outputs": [
        {
          "output_type": "display_data",
          "data": {
            "text/plain": [
              "<Figure size 1000x600 with 1 Axes>"
            ],
            "image/png": "[encoded data removed]"
          },
          "metadata": {}
        }
      ]
    },
    {
      "cell_type": "markdown",
      "source": [
        "### Analisis :"
      ],
      "metadata": {
        "id": "1dvhuXTse4BU"
      }
    },
    {
      "cell_type": "markdown",
      "source": [
        "Grafik ini membantu mengidentifikasi pelanggan dengan kontribusi tertinggi terhadap GMV. Dengan memfokuskan pada pelanggan bernilai tinggi ini, BukuKita dapat mengoptimalkan strategi retensi dan meningkatkan loyalitas mereka, sehingga berpotensi meningkatkan pendapatan lebih lanjut."
      ],
      "metadata": {
        "id": "XCx7FaJie6_q"
      }
    },
    {
      "cell_type": "markdown",
      "source": [
        "## Kesimpulan"
      ],
      "metadata": {
        "id": "rBvFHxaZlAcO"
      }
    },
    {
      "cell_type": "markdown",
      "source": [
        "Secara keseluruhan, hasil ini menunjukkan bahwa fokus pada peningkatan jumlah pesanan per pelanggan dapat secara langsung berdampak positif pada peningkatan total belanja mereka. Oleh karena itu, strategi pemasaran yang mendorong peningkatan jumlah pesanan per transaksi sangat relevan untuk diterapkan."
      ],
      "metadata": {
        "id": "gz6re2lFlKeb"
      }
    }
  ]
}