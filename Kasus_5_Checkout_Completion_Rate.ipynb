{
  "nbformat": 4,
  "nbformat_minor": 0,
  "metadata": {
    "colab": {
      "provenance": [],
      "authorship_tag": "ABX9TyNMPncvGNuaNvPAXDvHrzqF",
      "include_colab_link": true
    },
    "kernelspec": {
      "name": "python3",
      "display_name": "Python 3"
    },
    "language_info": {
      "name": "python"
    }
  },
  "cells": [
    {
      "cell_type": "markdown",
      "metadata": {
        "id": "view-in-github",
        "colab_type": "text"
      },
      "source": [
        "<a href=\"https://colab.research.google.com/github/atikahlestar/Data-Analysis/blob/main/Kasus_5_Checkout_Completion_Rate.ipynb\" target=\"_parent\"><img src=\"https://colab.research.google.com/assets/colab-badge.svg\" alt=\"Open In Colab\"/></a>"
      ]
    },
    {
      "cell_type": "markdown",
      "source": [
        "## Kasus 05 : Platform E-Commerce \"ShopEase\"\n",
        "ShopEase adalah sebuah platform e-commerce besar yang menyediakan berbagai produk dari kebutuhan sehari-hari hingga barang elektronik. Platform ini menawarkan dua cara untuk menyelesaikan proses checkout, yaitu melalui metode login/signup atau sebagai guest. Tim manajemen ShopEase ingin meningkatkan tingkat penyelesaian transaksi (checkout completion rate) dan memperbaiki pengalaman pengguna dalam proses checkout.\n",
        "\n",
        "Tim Data Analyst di ShopEase melakukan analisis terhadap data checkout dari ribuan pengguna untuk memahami bagaimana berbagai variabel mempengaruhi penyelesaian checkout. Mereka mengumpulkan data tentang metode checkout, waktu yang dihabiskan untuk menyelesaikan checkout, perangkat yang digunakan, dan nilai keranjang belanja. Dengan analisis ini, tim berharap bisa menjawab beberapa pertanyaan penting yang bisa membantu mereka memperbaiki proses checkout dan meningkatkan konversi.\n"
      ],
      "metadata": {
        "id": "rvw33wKialZ5"
      }
    },
    {
      "cell_type": "markdown",
      "source": [
        "## Dataset"
      ],
      "metadata": {
        "id": "GQaf5VC8b0A2"
      }
    },
    {
      "cell_type": "code",
      "execution_count": 23,
      "metadata": {
        "id": "CFzTDgE8Yc0P"
      },
      "outputs": [],
      "source": [
        "import pandas as pd\n",
        "import numpy as np\n",
        "import matplotlib.pyplot as plt\n",
        "import seaborn as sns"
      ]
    },
    {
      "cell_type": "code",
      "source": [
        "file_path = \"https://docs.google.com/spreadsheets/d/1xyg586q68YC_wUl9k32fxKoY0FslgJsP/export?format=csv\""
      ],
      "metadata": {
        "id": "JtDDO9Qvc6V8"
      },
      "execution_count": 24,
      "outputs": []
    },
    {
      "cell_type": "code",
      "source": [
        "df = pd.read_csv(file_path)\n",
        "df.head()"
      ],
      "metadata": {
        "colab": {
          "base_uri": "https://localhost:8080/",
          "height": 206
        },
        "id": "WG72sa1KdQGv",
        "outputId": "d14b45e7-7c67-4f51-9320-5df3bdbee637"
      },
      "execution_count": 25,
      "outputs": [
        {
          "output_type": "execute_result",
          "data": {
            "text/plain": [
              "   User_ID  Session_ID Checkout_Method  Order_Completed  Time_Spent  \\\n",
              "0      103           1    Login/Signup                0         595   \n",
              "1      436           2           Guest                1         349   \n",
              "2      349           3    Login/Signup                0         155   \n",
              "3      271           4           Guest                1         306   \n",
              "4      107           5           Guest                1         233   \n",
              "\n",
              "  Device_Type  Cart_Value Signup_or_Login        Date  \n",
              "0     Desktop      400.28          Signup  2024-10-05  \n",
              "1      Tablet      380.81             NaN  2024-10-10  \n",
              "2     Desktop      343.47           Login  2024-10-07  \n",
              "3      Tablet       91.38             NaN  2024-10-10  \n",
              "4      Tablet       38.96             NaN  2024-10-04  "
            ],
            "text/html": [
              "\n",
              "  <div id=\"df-9d005f54-3217-4eea-af37-78eff5611003\" class=\"colab-df-container\">\n",
              "    <div>\n",
              "<style scoped>\n",
              "    .dataframe tbody tr th:only-of-type {\n",
              "        vertical-align: middle;\n",
              "    }\n",
              "\n",
              "    .dataframe tbody tr th {\n",
              "        vertical-align: top;\n",
              "    }\n",
              "\n",
              "    .dataframe thead th {\n",
              "        text-align: right;\n",
              "    }\n",
              "</style>\n",
              "<table border=\"1\" class=\"dataframe\">\n",
              "  <thead>\n",
              "    <tr style=\"text-align: right;\">\n",
              "      <th></th>\n",
              "      <th>User_ID</th>\n",
              "      <th>Session_ID</th>\n",
              "      <th>Checkout_Method</th>\n",
              "      <th>Order_Completed</th>\n",
              "      <th>Time_Spent</th>\n",
              "      <th>Device_Type</th>\n",
              "      <th>Cart_Value</th>\n",
              "      <th>Signup_or_Login</th>\n",
              "      <th>Date</th>\n",
              "    </tr>\n",
              "  </thead>\n",
              "  <tbody>\n",
              "    <tr>\n",
              "      <th>0</th>\n",
              "      <td>103</td>\n",
              "      <td>1</td>\n",
              "      <td>Login/Signup</td>\n",
              "      <td>0</td>\n",
              "      <td>595</td>\n",
              "      <td>Desktop</td>\n",
              "      <td>400.28</td>\n",
              "      <td>Signup</td>\n",
              "      <td>2024-10-05</td>\n",
              "    </tr>\n",
              "    <tr>\n",
              "      <th>1</th>\n",
              "      <td>436</td>\n",
              "      <td>2</td>\n",
              "      <td>Guest</td>\n",
              "      <td>1</td>\n",
              "      <td>349</td>\n",
              "      <td>Tablet</td>\n",
              "      <td>380.81</td>\n",
              "      <td>NaN</td>\n",
              "      <td>2024-10-10</td>\n",
              "    </tr>\n",
              "    <tr>\n",
              "      <th>2</th>\n",
              "      <td>349</td>\n",
              "      <td>3</td>\n",
              "      <td>Login/Signup</td>\n",
              "      <td>0</td>\n",
              "      <td>155</td>\n",
              "      <td>Desktop</td>\n",
              "      <td>343.47</td>\n",
              "      <td>Login</td>\n",
              "      <td>2024-10-07</td>\n",
              "    </tr>\n",
              "    <tr>\n",
              "      <th>3</th>\n",
              "      <td>271</td>\n",
              "      <td>4</td>\n",
              "      <td>Guest</td>\n",
              "      <td>1</td>\n",
              "      <td>306</td>\n",
              "      <td>Tablet</td>\n",
              "      <td>91.38</td>\n",
              "      <td>NaN</td>\n",
              "      <td>2024-10-10</td>\n",
              "    </tr>\n",
              "    <tr>\n",
              "      <th>4</th>\n",
              "      <td>107</td>\n",
              "      <td>5</td>\n",
              "      <td>Guest</td>\n",
              "      <td>1</td>\n",
              "      <td>233</td>\n",
              "      <td>Tablet</td>\n",
              "      <td>38.96</td>\n",
              "      <td>NaN</td>\n",
              "      <td>2024-10-04</td>\n",
              "    </tr>\n",
              "  </tbody>\n",
              "</table>\n",
              "</div>\n",
              "    <div class=\"colab-df-buttons\">\n",
              "\n",
              "  <div class=\"colab-df-container\">\n",
              "    <button class=\"colab-df-convert\" onclick=\"convertToInteractive('df-9d005f54-3217-4eea-af37-78eff5611003')\"\n",
              "            title=\"Convert this dataframe to an interactive table.\"\n",
              "            style=\"display:none;\">\n",
              "\n",
              "  <svg xmlns=\"http://www.w3.org/2000/svg\" height=\"24px\" viewBox=\"0 -960 960 960\">\n",
              "    <path d=\"M120-120v-720h720v720H120Zm60-500h600v-160H180v160Zm220 220h160v-160H400v160Zm0 220h160v-160H400v160ZM180-400h160v-160H180v160Zm440 0h160v-160H620v160ZM180-180h160v-160H180v160Zm440 0h160v-160H620v160Z\"/>\n",
              "  </svg>\n",
              "    </button>\n",
              "\n",
              "  <style>\n",
              "    .colab-df-container {\n",
              "      display:flex;\n",
              "      gap: 12px;\n",
              "    }\n",
              "\n",
              "    .colab-df-convert {\n",
              "      background-color: #E8F0FE;\n",
              "      border: none;\n",
              "      border-radius: 50%;\n",
              "      cursor: pointer;\n",
              "      display: none;\n",
              "      fill: #1967D2;\n",
              "      height: 32px;\n",
              "      padding: 0 0 0 0;\n",
              "      width: 32px;\n",
              "    }\n",
              "\n",
              "    .colab-df-convert:hover {\n",
              "      background-color: #E2EBFA;\n",
              "      box-shadow: 0px 1px 2px rgba(60, 64, 67, 0.3), 0px 1px 3px 1px rgba(60, 64, 67, 0.15);\n",
              "      fill: #174EA6;\n",
              "    }\n",
              "\n",
              "    .colab-df-buttons div {\n",
              "      margin-bottom: 4px;\n",
              "    }\n",
              "\n",
              "    [theme=dark] .colab-df-convert {\n",
              "      background-color: #3B4455;\n",
              "      fill: #D2E3FC;\n",
              "    }\n",
              "\n",
              "    [theme=dark] .colab-df-convert:hover {\n",
              "      background-color: #434B5C;\n",
              "      box-shadow: 0px 1px 3px 1px rgba(0, 0, 0, 0.15);\n",
              "      filter: drop-shadow(0px 1px 2px rgba(0, 0, 0, 0.3));\n",
              "      fill: #FFFFFF;\n",
              "    }\n",
              "  </style>\n",
              "\n",
              "    <script>\n",
              "      const buttonEl =\n",
              "        document.querySelector('#df-9d005f54-3217-4eea-af37-78eff5611003 button.colab-df-convert');\n",
              "      buttonEl.style.display =\n",
              "        google.colab.kernel.accessAllowed ? 'block' : 'none';\n",
              "\n",
              "      async function convertToInteractive(key) {\n",
              "        const element = document.querySelector('#df-9d005f54-3217-4eea-af37-78eff5611003');\n",
              "        const dataTable =\n",
              "          await google.colab.kernel.invokeFunction('convertToInteractive',\n",
              "                                                    [key], {});\n",
              "        if (!dataTable) return;\n",
              "\n",
              "        const docLinkHtml = 'Like what you see? Visit the ' +\n",
              "          '<a target=\"_blank\" href=https://colab.research.google.com/notebooks/data_table.ipynb>data table notebook</a>'\n",
              "          + ' to learn more about interactive tables.';\n",
              "        element.innerHTML = '';\n",
              "        dataTable['output_type'] = 'display_data';\n",
              "        await google.colab.output.renderOutput(dataTable, element);\n",
              "        const docLink = document.createElement('div');\n",
              "        docLink.innerHTML = docLinkHtml;\n",
              "        element.appendChild(docLink);\n",
              "      }\n",
              "    </script>\n",
              "  </div>\n",
              "\n",
              "\n",
              "<div id=\"df-6a4dad7a-42aa-4ddb-ab4a-5bbf85354a13\">\n",
              "  <button class=\"colab-df-quickchart\" onclick=\"quickchart('df-6a4dad7a-42aa-4ddb-ab4a-5bbf85354a13')\"\n",
              "            title=\"Suggest charts\"\n",
              "            style=\"display:none;\">\n",
              "\n",
              "<svg xmlns=\"http://www.w3.org/2000/svg\" height=\"24px\"viewBox=\"0 0 24 24\"\n",
              "     width=\"24px\">\n",
              "    <g>\n",
              "        <path d=\"M19 3H5c-1.1 0-2 .9-2 2v14c0 1.1.9 2 2 2h14c1.1 0 2-.9 2-2V5c0-1.1-.9-2-2-2zM9 17H7v-7h2v7zm4 0h-2V7h2v10zm4 0h-2v-4h2v4z\"/>\n",
              "    </g>\n",
              "</svg>\n",
              "  </button>\n",
              "\n",
              "<style>\n",
              "  .colab-df-quickchart {\n",
              "      --bg-color: #E8F0FE;\n",
              "      --fill-color: #1967D2;\n",
              "      --hover-bg-color: #E2EBFA;\n",
              "      --hover-fill-color: #174EA6;\n",
              "      --disabled-fill-color: #AAA;\n",
              "      --disabled-bg-color: #DDD;\n",
              "  }\n",
              "\n",
              "  [theme=dark] .colab-df-quickchart {\n",
              "      --bg-color: #3B4455;\n",
              "      --fill-color: #D2E3FC;\n",
              "      --hover-bg-color: #434B5C;\n",
              "      --hover-fill-color: #FFFFFF;\n",
              "      --disabled-bg-color: #3B4455;\n",
              "      --disabled-fill-color: #666;\n",
              "  }\n",
              "\n",
              "  .colab-df-quickchart {\n",
              "    background-color: var(--bg-color);\n",
              "    border: none;\n",
              "    border-radius: 50%;\n",
              "    cursor: pointer;\n",
              "    display: none;\n",
              "    fill: var(--fill-color);\n",
              "    height: 32px;\n",
              "    padding: 0;\n",
              "    width: 32px;\n",
              "  }\n",
              "\n",
              "  .colab-df-quickchart:hover {\n",
              "    background-color: var(--hover-bg-color);\n",
              "    box-shadow: 0 1px 2px rgba(60, 64, 67, 0.3), 0 1px 3px 1px rgba(60, 64, 67, 0.15);\n",
              "    fill: var(--button-hover-fill-color);\n",
              "  }\n",
              "\n",
              "  .colab-df-quickchart-complete:disabled,\n",
              "  .colab-df-quickchart-complete:disabled:hover {\n",
              "    background-color: var(--disabled-bg-color);\n",
              "    fill: var(--disabled-fill-color);\n",
              "    box-shadow: none;\n",
              "  }\n",
              "\n",
              "  .colab-df-spinner {\n",
              "    border: 2px solid var(--fill-color);\n",
              "    border-color: transparent;\n",
              "    border-bottom-color: var(--fill-color);\n",
              "    animation:\n",
              "      spin 1s steps(1) infinite;\n",
              "  }\n",
              "\n",
              "  @keyframes spin {\n",
              "    0% {\n",
              "      border-color: transparent;\n",
              "      border-bottom-color: var(--fill-color);\n",
              "      border-left-color: var(--fill-color);\n",
              "    }\n",
              "    20% {\n",
              "      border-color: transparent;\n",
              "      border-left-color: var(--fill-color);\n",
              "      border-top-color: var(--fill-color);\n",
              "    }\n",
              "    30% {\n",
              "      border-color: transparent;\n",
              "      border-left-color: var(--fill-color);\n",
              "      border-top-color: var(--fill-color);\n",
              "      border-right-color: var(--fill-color);\n",
              "    }\n",
              "    40% {\n",
              "      border-color: transparent;\n",
              "      border-right-color: var(--fill-color);\n",
              "      border-top-color: var(--fill-color);\n",
              "    }\n",
              "    60% {\n",
              "      border-color: transparent;\n",
              "      border-right-color: var(--fill-color);\n",
              "    }\n",
              "    80% {\n",
              "      border-color: transparent;\n",
              "      border-right-color: var(--fill-color);\n",
              "      border-bottom-color: var(--fill-color);\n",
              "    }\n",
              "    90% {\n",
              "      border-color: transparent;\n",
              "      border-bottom-color: var(--fill-color);\n",
              "    }\n",
              "  }\n",
              "</style>\n",
              "\n",
              "  <script>\n",
              "    async function quickchart(key) {\n",
              "      const quickchartButtonEl =\n",
              "        document.querySelector('#' + key + ' button');\n",
              "      quickchartButtonEl.disabled = true;  // To prevent multiple clicks.\n",
              "      quickchartButtonEl.classList.add('colab-df-spinner');\n",
              "      try {\n",
              "        const charts = await google.colab.kernel.invokeFunction(\n",
              "            'suggestCharts', [key], {});\n",
              "      } catch (error) {\n",
              "        console.error('Error during call to suggestCharts:', error);\n",
              "      }\n",
              "      quickchartButtonEl.classList.remove('colab-df-spinner');\n",
              "      quickchartButtonEl.classList.add('colab-df-quickchart-complete');\n",
              "    }\n",
              "    (() => {\n",
              "      let quickchartButtonEl =\n",
              "        document.querySelector('#df-6a4dad7a-42aa-4ddb-ab4a-5bbf85354a13 button');\n",
              "      quickchartButtonEl.style.display =\n",
              "        google.colab.kernel.accessAllowed ? 'block' : 'none';\n",
              "    })();\n",
              "  </script>\n",
              "</div>\n",
              "\n",
              "    </div>\n",
              "  </div>\n"
            ],
            "application/vnd.google.colaboratory.intrinsic+json": {
              "type": "dataframe",
              "variable_name": "df",
              "summary": "{\n  \"name\": \"df\",\n  \"rows\": 1000,\n  \"fields\": [\n    {\n      \"column\": \"User_ID\",\n      \"properties\": {\n        \"dtype\": \"number\",\n        \"std\": 141,\n        \"min\": 1,\n        \"max\": 500,\n        \"num_unique_values\": 423,\n        \"samples\": [\n          101,\n          317,\n          134\n        ],\n        \"semantic_type\": \"\",\n        \"description\": \"\"\n      }\n    },\n    {\n      \"column\": \"Session_ID\",\n      \"properties\": {\n        \"dtype\": \"number\",\n        \"std\": 288,\n        \"min\": 1,\n        \"max\": 1000,\n        \"num_unique_values\": 1000,\n        \"samples\": [\n          522,\n          738,\n          741\n        ],\n        \"semantic_type\": \"\",\n        \"description\": \"\"\n      }\n    },\n    {\n      \"column\": \"Checkout_Method\",\n      \"properties\": {\n        \"dtype\": \"category\",\n        \"num_unique_values\": 2,\n        \"samples\": [\n          \"Guest\",\n          \"Login/Signup\"\n        ],\n        \"semantic_type\": \"\",\n        \"description\": \"\"\n      }\n    },\n    {\n      \"column\": \"Order_Completed\",\n      \"properties\": {\n        \"dtype\": \"number\",\n        \"std\": 0,\n        \"min\": 0,\n        \"max\": 1,\n        \"num_unique_values\": 2,\n        \"samples\": [\n          1,\n          0\n        ],\n        \"semantic_type\": \"\",\n        \"description\": \"\"\n      }\n    },\n    {\n      \"column\": \"Time_Spent\",\n      \"properties\": {\n        \"dtype\": \"number\",\n        \"std\": 167,\n        \"min\": 30,\n        \"max\": 600,\n        \"num_unique_values\": 469,\n        \"samples\": [\n          480,\n          573\n        ],\n        \"semantic_type\": \"\",\n        \"description\": \"\"\n      }\n    },\n    {\n      \"column\": \"Device_Type\",\n      \"properties\": {\n        \"dtype\": \"category\",\n        \"num_unique_values\": 3,\n        \"samples\": [\n          \"Desktop\",\n          \"Tablet\"\n        ],\n        \"semantic_type\": \"\",\n        \"description\": \"\"\n      }\n    },\n    {\n      \"column\": \"Cart_Value\",\n      \"properties\": {\n        \"dtype\": \"number\",\n        \"std\": 140.44701822724488,\n        \"min\": 10.46,\n        \"max\": 498.78,\n        \"num_unique_values\": 993,\n        \"samples\": [\n          412.09,\n          254.61\n        ],\n        \"semantic_type\": \"\",\n        \"description\": \"\"\n      }\n    },\n    {\n      \"column\": \"Signup_or_Login\",\n      \"properties\": {\n        \"dtype\": \"category\",\n        \"num_unique_values\": 2,\n        \"samples\": [\n          \"Login\",\n          \"Signup\"\n        ],\n        \"semantic_type\": \"\",\n        \"description\": \"\"\n      }\n    },\n    {\n      \"column\": \"Date\",\n      \"properties\": {\n        \"dtype\": \"object\",\n        \"num_unique_values\": 30,\n        \"samples\": [\n          \"2024-10-28\",\n          \"2024-10-29\"\n        ],\n        \"semantic_type\": \"\",\n        \"description\": \"\"\n      }\n    }\n  ]\n}"
            }
          },
          "metadata": {},
          "execution_count": 25
        }
      ]
    },
    {
      "cell_type": "code",
      "source": [
        "df.info()"
      ],
      "metadata": {
        "colab": {
          "base_uri": "https://localhost:8080/"
        },
        "id": "HmwdY-Y7hg6n",
        "outputId": "015fa389-c529-4a74-c96e-02aa2c16defe"
      },
      "execution_count": 26,
      "outputs": [
        {
          "output_type": "stream",
          "name": "stdout",
          "text": [
            "<class 'pandas.core.frame.DataFrame'>\n",
            "RangeIndex: 1000 entries, 0 to 999\n",
            "Data columns (total 9 columns):\n",
            " #   Column           Non-Null Count  Dtype  \n",
            "---  ------           --------------  -----  \n",
            " 0   User_ID          1000 non-null   int64  \n",
            " 1   Session_ID       1000 non-null   int64  \n",
            " 2   Checkout_Method  1000 non-null   object \n",
            " 3   Order_Completed  1000 non-null   int64  \n",
            " 4   Time_Spent       1000 non-null   int64  \n",
            " 5   Device_Type      1000 non-null   object \n",
            " 6   Cart_Value       1000 non-null   float64\n",
            " 7   Signup_or_Login  503 non-null    object \n",
            " 8   Date             1000 non-null   object \n",
            "dtypes: float64(1), int64(4), object(4)\n",
            "memory usage: 70.4+ KB\n"
          ]
        }
      ]
    },
    {
      "cell_type": "code",
      "source": [
        "df.duplicated().sum()"
      ],
      "metadata": {
        "colab": {
          "base_uri": "https://localhost:8080/"
        },
        "id": "fX9_aQZ9hmyQ",
        "outputId": "4ca81462-2672-4560-ba59-e5410207c852"
      },
      "execution_count": 27,
      "outputs": [
        {
          "output_type": "execute_result",
          "data": {
            "text/plain": [
              "0"
            ]
          },
          "metadata": {},
          "execution_count": 27
        }
      ]
    },
    {
      "cell_type": "code",
      "source": [
        "df.isnull().sum()"
      ],
      "metadata": {
        "colab": {
          "base_uri": "https://localhost:8080/",
          "height": 366
        },
        "id": "dT7GsOzrhtSC",
        "outputId": "f093a1f3-6807-4210-faee-98c8d4b9326c"
      },
      "execution_count": 28,
      "outputs": [
        {
          "output_type": "execute_result",
          "data": {
            "text/plain": [
              "User_ID              0\n",
              "Session_ID           0\n",
              "Checkout_Method      0\n",
              "Order_Completed      0\n",
              "Time_Spent           0\n",
              "Device_Type          0\n",
              "Cart_Value           0\n",
              "Signup_or_Login    497\n",
              "Date                 0\n",
              "dtype: int64"
            ],
            "text/html": [
              "<div>\n",
              "<style scoped>\n",
              "    .dataframe tbody tr th:only-of-type {\n",
              "        vertical-align: middle;\n",
              "    }\n",
              "\n",
              "    .dataframe tbody tr th {\n",
              "        vertical-align: top;\n",
              "    }\n",
              "\n",
              "    .dataframe thead th {\n",
              "        text-align: right;\n",
              "    }\n",
              "</style>\n",
              "<table border=\"1\" class=\"dataframe\">\n",
              "  <thead>\n",
              "    <tr style=\"text-align: right;\">\n",
              "      <th></th>\n",
              "      <th>0</th>\n",
              "    </tr>\n",
              "  </thead>\n",
              "  <tbody>\n",
              "    <tr>\n",
              "      <th>User_ID</th>\n",
              "      <td>0</td>\n",
              "    </tr>\n",
              "    <tr>\n",
              "      <th>Session_ID</th>\n",
              "      <td>0</td>\n",
              "    </tr>\n",
              "    <tr>\n",
              "      <th>Checkout_Method</th>\n",
              "      <td>0</td>\n",
              "    </tr>\n",
              "    <tr>\n",
              "      <th>Order_Completed</th>\n",
              "      <td>0</td>\n",
              "    </tr>\n",
              "    <tr>\n",
              "      <th>Time_Spent</th>\n",
              "      <td>0</td>\n",
              "    </tr>\n",
              "    <tr>\n",
              "      <th>Device_Type</th>\n",
              "      <td>0</td>\n",
              "    </tr>\n",
              "    <tr>\n",
              "      <th>Cart_Value</th>\n",
              "      <td>0</td>\n",
              "    </tr>\n",
              "    <tr>\n",
              "      <th>Signup_or_Login</th>\n",
              "      <td>497</td>\n",
              "    </tr>\n",
              "    <tr>\n",
              "      <th>Date</th>\n",
              "      <td>0</td>\n",
              "    </tr>\n",
              "  </tbody>\n",
              "</table>\n",
              "</div><br><label><b>dtype:</b> int64</label>"
            ]
          },
          "metadata": {},
          "execution_count": 28
        }
      ]
    },
    {
      "cell_type": "markdown",
      "source": [
        "## Soal 1\n",
        "Bagaimana pengaruh kewajiban login/signup terhadap checkout completion rate dibandingkan dengan opsi guest checkout?\n"
      ],
      "metadata": {
        "id": "-YvmfgsBh2BI"
      }
    },
    {
      "cell_type": "markdown",
      "source": [
        "### Jawab :"
      ],
      "metadata": {
        "id": "11_SdVBSjH-p"
      }
    },
    {
      "cell_type": "code",
      "source": [
        "## Checkout Completion Rate Berdasarkan Metode Checkout\n",
        "completion_rate_by_method = df.groupby(\"Checkout_Method\")[\"Order_Completed\"].mean () * 100\n",
        "completion_rate_by_method"
      ],
      "metadata": {
        "colab": {
          "base_uri": "https://localhost:8080/",
          "height": 178
        },
        "id": "w3Gg8sLahyPE",
        "outputId": "772e8b51-c7d6-4b2f-9f9d-ebcf808c5a8b"
      },
      "execution_count": 29,
      "outputs": [
        {
          "output_type": "execute_result",
          "data": {
            "text/plain": [
              "Checkout_Method\n",
              "Guest           75.251509\n",
              "Login/Signup    60.039761\n",
              "Name: Order_Completed, dtype: float64"
            ],
            "text/html": [
              "<div>\n",
              "<style scoped>\n",
              "    .dataframe tbody tr th:only-of-type {\n",
              "        vertical-align: middle;\n",
              "    }\n",
              "\n",
              "    .dataframe tbody tr th {\n",
              "        vertical-align: top;\n",
              "    }\n",
              "\n",
              "    .dataframe thead th {\n",
              "        text-align: right;\n",
              "    }\n",
              "</style>\n",
              "<table border=\"1\" class=\"dataframe\">\n",
              "  <thead>\n",
              "    <tr style=\"text-align: right;\">\n",
              "      <th></th>\n",
              "      <th>Order_Completed</th>\n",
              "    </tr>\n",
              "    <tr>\n",
              "      <th>Checkout_Method</th>\n",
              "      <th></th>\n",
              "    </tr>\n",
              "  </thead>\n",
              "  <tbody>\n",
              "    <tr>\n",
              "      <th>Guest</th>\n",
              "      <td>75.251509</td>\n",
              "    </tr>\n",
              "    <tr>\n",
              "      <th>Login/Signup</th>\n",
              "      <td>60.039761</td>\n",
              "    </tr>\n",
              "  </tbody>\n",
              "</table>\n",
              "</div><br><label><b>dtype:</b> float64</label>"
            ]
          },
          "metadata": {},
          "execution_count": 29
        }
      ]
    },
    {
      "cell_type": "code",
      "source": [
        "plt.figure(figsize=(10, 6))\n",
        "sns.barplot(x=completion_rate_by_method.index, y=completion_rate_by_method.values, palette=\"viridis\")\n",
        "plt.title(\"Checkout Completion Rate Berdasarkan Metode Checkout\")\n",
        "plt.xlabel(\"Metode Checkout\")\n",
        "plt.ylabel(\"Tingkat Penyelesaian (%)\")\n",
        "plt.xticks(rotation=45)\n",
        "plt.show()"
      ],
      "metadata": {
        "colab": {
          "base_uri": "https://localhost:8080/",
          "height": 731
        },
        "id": "ARvIR-5Ol_eT",
        "outputId": "e7891b55-49bf-40e5-cfeb-82aa4e36deb2"
      },
      "execution_count": 30,
      "outputs": [
        {
          "output_type": "stream",
          "name": "stderr",
          "text": [
            "<ipython-input-30-5f47f9628f80>:2: FutureWarning: \n",
            "\n",
            "Passing `palette` without assigning `hue` is deprecated and will be removed in v0.14.0. Assign the `x` variable to `hue` and set `legend=False` for the same effect.\n",
            "\n",
            "  sns.barplot(x=completion_rate_by_method.index, y=completion_rate_by_method.values, palette=\"viridis\")\n"
          ]
        },
        {
          "output_type": "display_data",
          "data": {
            "text/plain": [
              "<Figure size 1000x600 with 1 Axes>"
            ],
            "image/png": "[encoded data removed]"
          },
          "metadata": {}
        }
      ]
    },
    {
      "cell_type": "markdown",
      "source": [
        "### Analisis :"
      ],
      "metadata": {
        "id": "KvmAZAgyq871"
      }
    },
    {
      "cell_type": "markdown",
      "source": [
        "Dari data yang dianalisis, terlihat bahwa tingkat penyelesaian checkout (checkout completion rate) jauh lebih tinggi untuk pengguna yang menggunakan guest checkout (75,25%) dibandingkan dengan mereka yang diharuskan melakukan login/signup (60,04%). Ini menunjukkan bahwa kewajiban login/signup menjadi penghalang yang signifikan, yang mungkin disebabkan oleh kerumitan proses atau pengguna yang tidak ingin repot membuat akun baru.\n",
        "\n"
      ],
      "metadata": {
        "id": "1UGNoHGwrGsz"
      }
    },
    {
      "cell_type": "markdown",
      "source": [
        "## Soal 2"
      ],
      "metadata": {
        "id": "6nsBco_RtK9G"
      }
    },
    {
      "cell_type": "markdown",
      "source": [
        "Berapa rata-rata waktu yang dihabiskan pengguna untuk menyelesaikan checkout berdasarkan metode yang digunakan (tamu vs login/signup)?\n"
      ],
      "metadata": {
        "id": "FkTBjOK1vGe3"
      }
    },
    {
      "cell_type": "markdown",
      "source": [
        "### Jawab :"
      ],
      "metadata": {
        "id": "BBSB-cwcvs60"
      }
    },
    {
      "cell_type": "code",
      "source": [
        "# Rata-rata Waktu yang Dihabiskan Berdasarkan Metode Checkout\n",
        "avg_time_spent_by_method = df.groupby(\"Checkout_Method\")[\"Time_Spent\"].mean()\n",
        "avg_time_spent_by_method"
      ],
      "metadata": {
        "colab": {
          "base_uri": "https://localhost:8080/",
          "height": 178
        },
        "id": "TQVFL0w9yGtV",
        "outputId": "77f40ae4-658e-40b3-b35b-b47666e10f09"
      },
      "execution_count": 31,
      "outputs": [
        {
          "output_type": "execute_result",
          "data": {
            "text/plain": [
              "Checkout_Method\n",
              "Guest           317.006036\n",
              "Login/Signup    324.441352\n",
              "Name: Time_Spent, dtype: float64"
            ],
            "text/html": [
              "<div>\n",
              "<style scoped>\n",
              "    .dataframe tbody tr th:only-of-type {\n",
              "        vertical-align: middle;\n",
              "    }\n",
              "\n",
              "    .dataframe tbody tr th {\n",
              "        vertical-align: top;\n",
              "    }\n",
              "\n",
              "    .dataframe thead th {\n",
              "        text-align: right;\n",
              "    }\n",
              "</style>\n",
              "<table border=\"1\" class=\"dataframe\">\n",
              "  <thead>\n",
              "    <tr style=\"text-align: right;\">\n",
              "      <th></th>\n",
              "      <th>Time_Spent</th>\n",
              "    </tr>\n",
              "    <tr>\n",
              "      <th>Checkout_Method</th>\n",
              "      <th></th>\n",
              "    </tr>\n",
              "  </thead>\n",
              "  <tbody>\n",
              "    <tr>\n",
              "      <th>Guest</th>\n",
              "      <td>317.006036</td>\n",
              "    </tr>\n",
              "    <tr>\n",
              "      <th>Login/Signup</th>\n",
              "      <td>324.441352</td>\n",
              "    </tr>\n",
              "  </tbody>\n",
              "</table>\n",
              "</div><br><label><b>dtype:</b> float64</label>"
            ]
          },
          "metadata": {},
          "execution_count": 31
        }
      ]
    },
    {
      "cell_type": "code",
      "source": [
        "plt.figure(figsize=(10, 6))\n",
        "sns.barplot(x=avg_time_spent_by_method.index, y=avg_time_spent_by_method.values, palette=\"viridis\")\n",
        "plt.title(\"Rata-rata Waktu yang Dihabiskan Berdasarkan Metode Checkout\")\n",
        "plt.xlabel(\"Metode Checkout\")\n",
        "plt.ylabel(\"Waktu yang Dihabiskan (detik)\")\n",
        "plt.xticks(rotation=45)\n",
        "plt.show()"
      ],
      "metadata": {
        "colab": {
          "base_uri": "https://localhost:8080/",
          "height": 731
        },
        "id": "crd4-3ypq-jX",
        "outputId": "e3ec9ccd-9c90-4402-c37f-ab5700fa42a3"
      },
      "execution_count": 32,
      "outputs": [
        {
          "output_type": "stream",
          "name": "stderr",
          "text": [
            "<ipython-input-32-abc3e79d91f0>:2: FutureWarning: \n",
            "\n",
            "Passing `palette` without assigning `hue` is deprecated and will be removed in v0.14.0. Assign the `x` variable to `hue` and set `legend=False` for the same effect.\n",
            "\n",
            "  sns.barplot(x=avg_time_spent_by_method.index, y=avg_time_spent_by_method.values, palette=\"viridis\")\n"
          ]
        },
        {
          "output_type": "display_data",
          "data": {
            "text/plain": [
              "<Figure size 1000x600 with 1 Axes>"
            ],
            "image/png": "[encoded data removed]"
          },
          "metadata": {}
        }
      ]
    },
    {
      "cell_type": "markdown",
      "source": [
        "### Analisis :"
      ],
      "metadata": {
        "id": "VD_s2iAGz4mW"
      }
    },
    {
      "cell_type": "markdown",
      "source": [
        "Rata-rata waktu yang dihabiskan untuk menyelesaikan checkout hanya sedikit berbeda antara metode checkout tamu dan login/signup. Pengguna guest checkout menghabiskan rata-rata 317 detik, sedangkan pengguna yang login/signup menghabiskan sedikit lebih lama, yaitu 324 detik. Meskipun perbedaannya tidak terlalu besar, hal ini menunjukkan bahwa proses login/signup tidak terlalu memperlambat waktu checkout, namun bisa menjadi penghalang psikologis.\n"
      ],
      "metadata": {
        "id": "DRckTiLMz68t"
      }
    },
    {
      "cell_type": "markdown",
      "source": [
        "## Soal 3"
      ],
      "metadata": {
        "id": "4fdvAv2o0Vwh"
      }
    },
    {
      "cell_type": "markdown",
      "source": [
        "Apa perbedaan nilai rata-rata keranjang belanja antara checkout tamu dan login/signup?\n",
        "\n"
      ],
      "metadata": {
        "id": "U9vF8qV80aA7"
      }
    },
    {
      "cell_type": "markdown",
      "source": [
        "### Jawab :"
      ],
      "metadata": {
        "id": "UkAADoVD0qHn"
      }
    },
    {
      "cell_type": "code",
      "source": [
        "## Rata-rata Nilai Keranjang Berdasarkan Metode Checkout\n",
        "avg_cart_value_by_method = df.groupby(\"Checkout_Method\")[\"Cart_Value\"].mean()\n",
        "avg_cart_value_by_method"
      ],
      "metadata": {
        "colab": {
          "base_uri": "https://localhost:8080/",
          "height": 178
        },
        "id": "g1QYh3gwtPp5",
        "outputId": "213764aa-009e-4d5e-e54c-213c4f7ef4ee"
      },
      "execution_count": 33,
      "outputs": [
        {
          "output_type": "execute_result",
          "data": {
            "text/plain": [
              "Checkout_Method\n",
              "Guest           251.760141\n",
              "Login/Signup    247.987356\n",
              "Name: Cart_Value, dtype: float64"
            ],
            "text/html": [
              "<div>\n",
              "<style scoped>\n",
              "    .dataframe tbody tr th:only-of-type {\n",
              "        vertical-align: middle;\n",
              "    }\n",
              "\n",
              "    .dataframe tbody tr th {\n",
              "        vertical-align: top;\n",
              "    }\n",
              "\n",
              "    .dataframe thead th {\n",
              "        text-align: right;\n",
              "    }\n",
              "</style>\n",
              "<table border=\"1\" class=\"dataframe\">\n",
              "  <thead>\n",
              "    <tr style=\"text-align: right;\">\n",
              "      <th></th>\n",
              "      <th>Cart_Value</th>\n",
              "    </tr>\n",
              "    <tr>\n",
              "      <th>Checkout_Method</th>\n",
              "      <th></th>\n",
              "    </tr>\n",
              "  </thead>\n",
              "  <tbody>\n",
              "    <tr>\n",
              "      <th>Guest</th>\n",
              "      <td>251.760141</td>\n",
              "    </tr>\n",
              "    <tr>\n",
              "      <th>Login/Signup</th>\n",
              "      <td>247.987356</td>\n",
              "    </tr>\n",
              "  </tbody>\n",
              "</table>\n",
              "</div><br><label><b>dtype:</b> float64</label>"
            ]
          },
          "metadata": {},
          "execution_count": 33
        }
      ]
    },
    {
      "cell_type": "code",
      "source": [
        "plt.figure(figsize=(10, 6))\n",
        "sns.barplot(x=avg_cart_value_by_method.index, y=avg_cart_value_by_method.values, palette=\"viridis\")\n",
        "plt.title(\"Rata-rata Nilai Keranjang Berdasarkan Metode Checkout\")\n",
        "plt.xlabel(\"Metode Checkout\")\n",
        "plt.ylabel(\"Nilai Keranjang Belanja ($)\")\n",
        "plt.xticks(rotation=45)\n",
        "plt.show()\n"
      ],
      "metadata": {
        "colab": {
          "base_uri": "https://localhost:8080/",
          "height": 731
        },
        "id": "drJFM93G0U-F",
        "outputId": "095d29d2-1cf2-4134-841c-77cb72f9bc71"
      },
      "execution_count": 34,
      "outputs": [
        {
          "output_type": "stream",
          "name": "stderr",
          "text": [
            "<ipython-input-34-37d31d7bdd08>:2: FutureWarning: \n",
            "\n",
            "Passing `palette` without assigning `hue` is deprecated and will be removed in v0.14.0. Assign the `x` variable to `hue` and set `legend=False` for the same effect.\n",
            "\n",
            "  sns.barplot(x=avg_cart_value_by_method.index, y=avg_cart_value_by_method.values, palette=\"viridis\")\n"
          ]
        },
        {
          "output_type": "display_data",
          "data": {
            "text/plain": [
              "<Figure size 1000x600 with 1 Axes>"
            ],
            "image/png": "[encoded data removed]"
          },
          "metadata": {}
        }
      ]
    },
    {
      "cell_type": "markdown",
      "source": [
        "### Analisis :"
      ],
      "metadata": {
        "id": "qncUyM4O8PXB"
      }
    },
    {
      "cell_type": "markdown",
      "source": [
        "Nilai rata-rata keranjang belanja pengguna guest checkout sedikit lebih tinggi, yaitu $251,76, dibandingkan dengan pengguna login/signup yang memiliki nilai rata-rata keranjang belanja sebesar 247,99. Perbedaan ini, meskipun tidak besar, menunjukkan bahwa pengguna guest checkout cenderung berbelanja lebih banyak dibandingkan pengguna yang login/signup.\n",
        "\n"
      ],
      "metadata": {
        "id": "tOd0uFSP8SO8"
      }
    },
    {
      "cell_type": "markdown",
      "source": [
        "## Soal 4"
      ],
      "metadata": {
        "id": "FIWAT2av8kO7"
      }
    },
    {
      "cell_type": "markdown",
      "source": [
        "Bagaimana variasi tingkat penyelesaian checkout berdasarkan jenis perangkat?\n"
      ],
      "metadata": {
        "id": "f-K1ti-n8n0F"
      }
    },
    {
      "cell_type": "markdown",
      "source": [
        "### Jawab :"
      ],
      "metadata": {
        "id": "6Ini0AdA89ya"
      }
    },
    {
      "cell_type": "code",
      "source": [
        "## Tingkat Penyelesaian Checkout Berdasarkan Jenis Perangkat\n",
        "completion_rate_by_device = df.groupby(\"Device_Type\")[\"Order_Completed\"].mean () * 100\n",
        "completion_rate_by_device"
      ],
      "metadata": {
        "colab": {
          "base_uri": "https://localhost:8080/",
          "height": 210
        },
        "id": "-aarNJSb9A96",
        "outputId": "4a4c575c-7bb4-403a-fc20-f1669456c374"
      },
      "execution_count": 35,
      "outputs": [
        {
          "output_type": "execute_result",
          "data": {
            "text/plain": [
              "Device_Type\n",
              "Desktop    69.520548\n",
              "Mobile     66.006601\n",
              "Tablet     71.568627\n",
              "Name: Order_Completed, dtype: float64"
            ],
            "text/html": [
              "<div>\n",
              "<style scoped>\n",
              "    .dataframe tbody tr th:only-of-type {\n",
              "        vertical-align: middle;\n",
              "    }\n",
              "\n",
              "    .dataframe tbody tr th {\n",
              "        vertical-align: top;\n",
              "    }\n",
              "\n",
              "    .dataframe thead th {\n",
              "        text-align: right;\n",
              "    }\n",
              "</style>\n",
              "<table border=\"1\" class=\"dataframe\">\n",
              "  <thead>\n",
              "    <tr style=\"text-align: right;\">\n",
              "      <th></th>\n",
              "      <th>Order_Completed</th>\n",
              "    </tr>\n",
              "    <tr>\n",
              "      <th>Device_Type</th>\n",
              "      <th></th>\n",
              "    </tr>\n",
              "  </thead>\n",
              "  <tbody>\n",
              "    <tr>\n",
              "      <th>Desktop</th>\n",
              "      <td>69.520548</td>\n",
              "    </tr>\n",
              "    <tr>\n",
              "      <th>Mobile</th>\n",
              "      <td>66.006601</td>\n",
              "    </tr>\n",
              "    <tr>\n",
              "      <th>Tablet</th>\n",
              "      <td>71.568627</td>\n",
              "    </tr>\n",
              "  </tbody>\n",
              "</table>\n",
              "</div><br><label><b>dtype:</b> float64</label>"
            ]
          },
          "metadata": {},
          "execution_count": 35
        }
      ]
    },
    {
      "cell_type": "code",
      "source": [
        "plt.figure(figsize=(10, 6))\n",
        "sns.barplot(x=completion_rate_by_device.index, y=completion_rate_by_device.values, palette=\"viridis\")\n",
        "plt.title(\"Tingkat Penyelesaian Checkout Berdasarkan Jenis Perangkat\")\n",
        "plt.xlabel(\"Jenis Perangkat\")\n",
        "plt.ylabel(\"Tingkat Penyelesaian (%)\")\n",
        "plt.xticks(rotation=45)\n",
        "plt.show()"
      ],
      "metadata": {
        "colab": {
          "base_uri": "https://localhost:8080/",
          "height": 708
        },
        "id": "s7PR7-luJSez",
        "outputId": "8978e148-6212-47ba-82aa-851e7f1022b5"
      },
      "execution_count": 36,
      "outputs": [
        {
          "output_type": "stream",
          "name": "stderr",
          "text": [
            "<ipython-input-36-c129a24598c3>:2: FutureWarning: \n",
            "\n",
            "Passing `palette` without assigning `hue` is deprecated and will be removed in v0.14.0. Assign the `x` variable to `hue` and set `legend=False` for the same effect.\n",
            "\n",
            "  sns.barplot(x=completion_rate_by_device.index, y=completion_rate_by_device.values, palette=\"viridis\")\n"
          ]
        },
        {
          "output_type": "display_data",
          "data": {
            "text/plain": [
              "<Figure size 1000x600 with 1 Axes>"
            ],
            "image/png": "[encoded data removed]"
          },
          "metadata": {}
        }
      ]
    },
    {
      "cell_type": "markdown",
      "source": [
        "### Analisis :"
      ],
      "metadata": {
        "id": "B2K2zj999zxd"
      }
    },
    {
      "cell_type": "markdown",
      "source": [
        "Terdapat variasi tingkat penyelesaian transaksi berdasarkan jenis perangkat yang digunakan. Pengguna tablet memiliki tingkat penyelesaian transaksi tertinggi dengan 71,57%, diikuti oleh pengguna desktop dengan 69,52%, dan terakhir pengguna mobile dengan 66,01%. Ini menunjukkan bahwa pengalaman pengguna mungkin lebih nyaman di perangkat yang lebih besar, seperti tablet dan desktop, dibandingkan di mobile.\n",
        "\n"
      ],
      "metadata": {
        "id": "0_LT92cT93kR"
      }
    },
    {
      "cell_type": "markdown",
      "source": [
        "## Kesimpulan"
      ],
      "metadata": {
        "id": "-1Lo7CWz-QuE"
      }
    },
    {
      "cell_type": "markdown",
      "source": [
        "Dari analisis ini, ShopEase dapat menarik beberapa kesimpulan penting:\n",
        "- Opsi Guest Checkout lebih efektif dalam mendorong konversi karena memiliki tingkat penyelesaian yang lebih tinggi dibandingkan metode login/signup. Oleh karena itu, ShopEase sebaiknya mempertimbangkan untuk memperjelas atau lebih menonjolkan opsi guest checkout, atau membuat proses login/signup lebih mudah dan cepat.\n",
        "- Meskipun waktu yang dihabiskan tidak terlalu berbeda antara kedua metode, pengguna tampaknya lebih menyukai opsi guest checkout karena lebih simpel.\n",
        "- Nilai keranjang belanja sedikit lebih tinggi untuk pengguna guest checkout, yang menandakan potensi keuntungan lebih besar dari metode ini.\n",
        "- Pengguna tablet memiliki tingkat penyelesaian tertinggi, jadi ShopEase bisa mempertimbangkan optimalisasi pengalaman pengguna di perangkat mobile untuk meningkatkan tingkat konversi.\n",
        "\n",
        "Dengan mengetahui hal-hal ini, ShopEase bisa menyusun strategi untuk meningkatkan pengalaman pengguna selama checkout, seperti mempercepat proses login/signup atau bahkan mengurangi ketergantungan pada login untuk meningkatkan tingkat penyelesaian transaksi secara keseluruhan.\n"
      ],
      "metadata": {
        "id": "tpzO12Vf-ToQ"
      }
    }
  ]
}