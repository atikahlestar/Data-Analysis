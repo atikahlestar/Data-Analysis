{
  "nbformat": 4,
  "nbformat_minor": 0,
  "metadata": {
    "colab": {
      "provenance": [],
      "authorship_tag": "ABX9TyN8mUtoQ0Oedgk/cvvTxrRQ",
      "include_colab_link": true
    },
    "kernelspec": {
      "name": "python3",
      "display_name": "Python 3"
    },
    "language_info": {
      "name": "python"
    }
  },
  "cells": [
    {
      "cell_type": "markdown",
      "metadata": {
        "id": "view-in-github",
        "colab_type": "text"
      },
      "source": [
        "<a href=\"https://colab.research.google.com/github/atikahlestar/Data-Analysis/blob/main/Kasus_4_Analyst_Fasilitas.ipynb\" target=\"_parent\"><img src=\"https://colab.research.google.com/assets/colab-badge.svg\" alt=\"Open In Colab\"/></a>"
      ]
    },
    {
      "cell_type": "markdown",
      "source": [
        "## Kasus 04 : Restoran Cepat Saji Roica\n",
        "Restoran Cepat Saji Roica adalah sebuah jaringan restoran cepat saji yang tersebar di berbagai wilayah Indonesia. Restoran ini memiliki sejumlah cabang dengan beberapa di antaranya menyediakan fasilitas drive-thru untuk memudahkan pelanggan membeli makanan tanpa perlu keluar dari kendaraan. Selain itu, cabang-cabang tersebut terletak di berbagai lokasi seperti perkotaan (Urban), pinggiran kota (Suburban), dan pedesaan (Rural). Tim manajemen Roica sedang berfokus pada peningkatan efisiensi operasional dan penentuan strategi untuk membuka cabang baru dengan mempertimbangkan berbagai aspek seperti fasilitas drive-thru, lokasi, jumlah karyawan, area parkir, dan jam operasional.\n",
        "\n",
        "Untuk membantu manajemen dalam mengambil keputusan strategis, tim data analyst Restoran Roica melakukan analisis terhadap data transaksi dari berbagai cabang. Beberapa pertanyaan kunci muncul terkait dengan kinerja cabang-cabang tersebut, terutama seputar perbedaan jumlah transaksi, pendapatan, serta faktor-faktor yang memengaruhi performa cabang.\n",
        "\n",
        "Tim manajemen ingin menjawab beberapa pertanyaan spesifik yang akan membantu mereka membuat keputusan berbasis data, seperti:\n",
        "1. Apakah terdapat perbedaan signifikan antara rata-rata jumlah transaksi cabang yang memiliki fasilitas drive-thru dan yang tidak? Jika ya, berapa persentase perbedaannya?\n",
        "2. Apakah terdapat perbedaan rata-rata jumlah transaksi berdasarkan lokasi cabang (Urban, Suburban, dan Rural)? Jika ya, lokasi mana yang memiliki rata-rata transaksi tertinggi?\n",
        "3. Apakah cabang dengan fasilitas drive-thru memiliki rata-rata pendapatan yang lebih tinggi dibandingkan cabang non drive-thru? Jika ya, berapa selisih rata-ratanya?\n",
        "4. Apakah terdapat korelasi yang signifikan antara jumlah karyawan dan jumlah transaksi?\n",
        "5. Bagaimana hubungan antara ukuran area parkir dan jumlah transaksi di cabang?\n",
        "6. Bagaimana pengaruh jam operasional per hari terhadap jumlah transaksi di cabang?\n",
        "\n",
        "Untuk menjawab pertanyaan-pertanyaan tersebut, tim data analyst Roica memulai dengan mengumpulkan data transaksi cabang, yang mencakup informasi seperti jumlah transaksi, fasilitas drive-thru, lokasi, jumlah karyawan, jam operasional, dan pendapatan setiap cabang."
      ],
      "metadata": {
        "id": "rvw33wKialZ5"
      }
    },
    {
      "cell_type": "markdown",
      "source": [
        "## Dataset"
      ],
      "metadata": {
        "id": "GQaf5VC8b0A2"
      }
    },
    {
      "cell_type": "code",
      "execution_count": 35,
      "metadata": {
        "id": "CFzTDgE8Yc0P"
      },
      "outputs": [],
      "source": [
        "import pandas as pd\n",
        "import numpy as np\n",
        "import matplotlib.pyplot as plt\n",
        "import seaborn as sns"
      ]
    },
    {
      "cell_type": "code",
      "source": [
        "file_path = \"https://docs.google.com/spreadsheets/d/1GK4SjHcCSO2QHkywu_0N83jHMPlTVYbU/export?format=csv\""
      ],
      "metadata": {
        "id": "JtDDO9Qvc6V8"
      },
      "execution_count": 36,
      "outputs": []
    },
    {
      "cell_type": "code",
      "source": [
        "df = pd.read_csv(file_path)\n",
        "df.head()"
      ],
      "metadata": {
        "colab": {
          "base_uri": "https://localhost:8080/",
          "height": 206
        },
        "id": "WG72sa1KdQGv",
        "outputId": "06bc3df0-d008-4f01-f95a-1cb6601bca1e"
      },
      "execution_count": 37,
      "outputs": [
        {
          "output_type": "execute_result",
          "data": {
            "text/plain": [
              "  Cabang Drive-Thru  Jumlah Transaksi    Lokasi  Hari Kerja per Minggu  \\\n",
              "0      A         Ya              2380     Urban                      6   \n",
              "1      B      Tidak              2000  Suburban                      6   \n",
              "2      C         Ya              2500     Urban                      7   \n",
              "3      D      Tidak              2100     Rural                      5   \n",
              "4      E         Ya              2700  Suburban                      7   \n",
              "\n",
              "   Jam Operasional per Hari  Jumlah Karyawan  Area Parkir (m²)  \\\n",
              "0                        12               15               500   \n",
              "1                        10               12               300   \n",
              "2                        14               18               600   \n",
              "3                         8               10               200   \n",
              "4                        13               17               550   \n",
              "\n",
              "    Pendapatan (Rp)  \n",
              "0   Rp 120.000.000   \n",
              "1   Rp 100.000.000   \n",
              "2   Rp 130.000.000   \n",
              "3   Rp 105.000.000   \n",
              "4   Rp 140.000.000   "
            ],
            "text/html": [
              "\n",
              "  <div id=\"df-89643b35-56e8-46e1-8eef-7423d82d6e76\" class=\"colab-df-container\">\n",
              "    <div>\n",
              "<style scoped>\n",
              "    .dataframe tbody tr th:only-of-type {\n",
              "        vertical-align: middle;\n",
              "    }\n",
              "\n",
              "    .dataframe tbody tr th {\n",
              "        vertical-align: top;\n",
              "    }\n",
              "\n",
              "    .dataframe thead th {\n",
              "        text-align: right;\n",
              "    }\n",
              "</style>\n",
              "<table border=\"1\" class=\"dataframe\">\n",
              "  <thead>\n",
              "    <tr style=\"text-align: right;\">\n",
              "      <th></th>\n",
              "      <th>Cabang</th>\n",
              "      <th>Drive-Thru</th>\n",
              "      <th>Jumlah Transaksi</th>\n",
              "      <th>Lokasi</th>\n",
              "      <th>Hari Kerja per Minggu</th>\n",
              "      <th>Jam Operasional per Hari</th>\n",
              "      <th>Jumlah Karyawan</th>\n",
              "      <th>Area Parkir (m²)</th>\n",
              "      <th>Pendapatan (Rp)</th>\n",
              "    </tr>\n",
              "  </thead>\n",
              "  <tbody>\n",
              "    <tr>\n",
              "      <th>0</th>\n",
              "      <td>A</td>\n",
              "      <td>Ya</td>\n",
              "      <td>2380</td>\n",
              "      <td>Urban</td>\n",
              "      <td>6</td>\n",
              "      <td>12</td>\n",
              "      <td>15</td>\n",
              "      <td>500</td>\n",
              "      <td>Rp 120.000.000</td>\n",
              "    </tr>\n",
              "    <tr>\n",
              "      <th>1</th>\n",
              "      <td>B</td>\n",
              "      <td>Tidak</td>\n",
              "      <td>2000</td>\n",
              "      <td>Suburban</td>\n",
              "      <td>6</td>\n",
              "      <td>10</td>\n",
              "      <td>12</td>\n",
              "      <td>300</td>\n",
              "      <td>Rp 100.000.000</td>\n",
              "    </tr>\n",
              "    <tr>\n",
              "      <th>2</th>\n",
              "      <td>C</td>\n",
              "      <td>Ya</td>\n",
              "      <td>2500</td>\n",
              "      <td>Urban</td>\n",
              "      <td>7</td>\n",
              "      <td>14</td>\n",
              "      <td>18</td>\n",
              "      <td>600</td>\n",
              "      <td>Rp 130.000.000</td>\n",
              "    </tr>\n",
              "    <tr>\n",
              "      <th>3</th>\n",
              "      <td>D</td>\n",
              "      <td>Tidak</td>\n",
              "      <td>2100</td>\n",
              "      <td>Rural</td>\n",
              "      <td>5</td>\n",
              "      <td>8</td>\n",
              "      <td>10</td>\n",
              "      <td>200</td>\n",
              "      <td>Rp 105.000.000</td>\n",
              "    </tr>\n",
              "    <tr>\n",
              "      <th>4</th>\n",
              "      <td>E</td>\n",
              "      <td>Ya</td>\n",
              "      <td>2700</td>\n",
              "      <td>Suburban</td>\n",
              "      <td>7</td>\n",
              "      <td>13</td>\n",
              "      <td>17</td>\n",
              "      <td>550</td>\n",
              "      <td>Rp 140.000.000</td>\n",
              "    </tr>\n",
              "  </tbody>\n",
              "</table>\n",
              "</div>\n",
              "    <div class=\"colab-df-buttons\">\n",
              "\n",
              "  <div class=\"colab-df-container\">\n",
              "    <button class=\"colab-df-convert\" onclick=\"convertToInteractive('df-89643b35-56e8-46e1-8eef-7423d82d6e76')\"\n",
              "            title=\"Convert this dataframe to an interactive table.\"\n",
              "            style=\"display:none;\">\n",
              "\n",
              "  <svg xmlns=\"http://www.w3.org/2000/svg\" height=\"24px\" viewBox=\"0 -960 960 960\">\n",
              "    <path d=\"M120-120v-720h720v720H120Zm60-500h600v-160H180v160Zm220 220h160v-160H400v160Zm0 220h160v-160H400v160ZM180-400h160v-160H180v160Zm440 0h160v-160H620v160ZM180-180h160v-160H180v160Zm440 0h160v-160H620v160Z\"/>\n",
              "  </svg>\n",
              "    </button>\n",
              "\n",
              "  <style>\n",
              "    .colab-df-container {\n",
              "      display:flex;\n",
              "      gap: 12px;\n",
              "    }\n",
              "\n",
              "    .colab-df-convert {\n",
              "      background-color: #E8F0FE;\n",
              "      border: none;\n",
              "      border-radius: 50%;\n",
              "      cursor: pointer;\n",
              "      display: none;\n",
              "      fill: #1967D2;\n",
              "      height: 32px;\n",
              "      padding: 0 0 0 0;\n",
              "      width: 32px;\n",
              "    }\n",
              "\n",
              "    .colab-df-convert:hover {\n",
              "      background-color: #E2EBFA;\n",
              "      box-shadow: 0px 1px 2px rgba(60, 64, 67, 0.3), 0px 1px 3px 1px rgba(60, 64, 67, 0.15);\n",
              "      fill: #174EA6;\n",
              "    }\n",
              "\n",
              "    .colab-df-buttons div {\n",
              "      margin-bottom: 4px;\n",
              "    }\n",
              "\n",
              "    [theme=dark] .colab-df-convert {\n",
              "      background-color: #3B4455;\n",
              "      fill: #D2E3FC;\n",
              "    }\n",
              "\n",
              "    [theme=dark] .colab-df-convert:hover {\n",
              "      background-color: #434B5C;\n",
              "      box-shadow: 0px 1px 3px 1px rgba(0, 0, 0, 0.15);\n",
              "      filter: drop-shadow(0px 1px 2px rgba(0, 0, 0, 0.3));\n",
              "      fill: #FFFFFF;\n",
              "    }\n",
              "  </style>\n",
              "\n",
              "    <script>\n",
              "      const buttonEl =\n",
              "        document.querySelector('#df-89643b35-56e8-46e1-8eef-7423d82d6e76 button.colab-df-convert');\n",
              "      buttonEl.style.display =\n",
              "        google.colab.kernel.accessAllowed ? 'block' : 'none';\n",
              "\n",
              "      async function convertToInteractive(key) {\n",
              "        const element = document.querySelector('#df-89643b35-56e8-46e1-8eef-7423d82d6e76');\n",
              "        const dataTable =\n",
              "          await google.colab.kernel.invokeFunction('convertToInteractive',\n",
              "                                                    [key], {});\n",
              "        if (!dataTable) return;\n",
              "\n",
              "        const docLinkHtml = 'Like what you see? Visit the ' +\n",
              "          '<a target=\"_blank\" href=https://colab.research.google.com/notebooks/data_table.ipynb>data table notebook</a>'\n",
              "          + ' to learn more about interactive tables.';\n",
              "        element.innerHTML = '';\n",
              "        dataTable['output_type'] = 'display_data';\n",
              "        await google.colab.output.renderOutput(dataTable, element);\n",
              "        const docLink = document.createElement('div');\n",
              "        docLink.innerHTML = docLinkHtml;\n",
              "        element.appendChild(docLink);\n",
              "      }\n",
              "    </script>\n",
              "  </div>\n",
              "\n",
              "\n",
              "<div id=\"df-b5467162-7bc7-41b5-8af9-d181acae86a0\">\n",
              "  <button class=\"colab-df-quickchart\" onclick=\"quickchart('df-b5467162-7bc7-41b5-8af9-d181acae86a0')\"\n",
              "            title=\"Suggest charts\"\n",
              "            style=\"display:none;\">\n",
              "\n",
              "<svg xmlns=\"http://www.w3.org/2000/svg\" height=\"24px\"viewBox=\"0 0 24 24\"\n",
              "     width=\"24px\">\n",
              "    <g>\n",
              "        <path d=\"M19 3H5c-1.1 0-2 .9-2 2v14c0 1.1.9 2 2 2h14c1.1 0 2-.9 2-2V5c0-1.1-.9-2-2-2zM9 17H7v-7h2v7zm4 0h-2V7h2v10zm4 0h-2v-4h2v4z\"/>\n",
              "    </g>\n",
              "</svg>\n",
              "  </button>\n",
              "\n",
              "<style>\n",
              "  .colab-df-quickchart {\n",
              "      --bg-color: #E8F0FE;\n",
              "      --fill-color: #1967D2;\n",
              "      --hover-bg-color: #E2EBFA;\n",
              "      --hover-fill-color: #174EA6;\n",
              "      --disabled-fill-color: #AAA;\n",
              "      --disabled-bg-color: #DDD;\n",
              "  }\n",
              "\n",
              "  [theme=dark] .colab-df-quickchart {\n",
              "      --bg-color: #3B4455;\n",
              "      --fill-color: #D2E3FC;\n",
              "      --hover-bg-color: #434B5C;\n",
              "      --hover-fill-color: #FFFFFF;\n",
              "      --disabled-bg-color: #3B4455;\n",
              "      --disabled-fill-color: #666;\n",
              "  }\n",
              "\n",
              "  .colab-df-quickchart {\n",
              "    background-color: var(--bg-color);\n",
              "    border: none;\n",
              "    border-radius: 50%;\n",
              "    cursor: pointer;\n",
              "    display: none;\n",
              "    fill: var(--fill-color);\n",
              "    height: 32px;\n",
              "    padding: 0;\n",
              "    width: 32px;\n",
              "  }\n",
              "\n",
              "  .colab-df-quickchart:hover {\n",
              "    background-color: var(--hover-bg-color);\n",
              "    box-shadow: 0 1px 2px rgba(60, 64, 67, 0.3), 0 1px 3px 1px rgba(60, 64, 67, 0.15);\n",
              "    fill: var(--button-hover-fill-color);\n",
              "  }\n",
              "\n",
              "  .colab-df-quickchart-complete:disabled,\n",
              "  .colab-df-quickchart-complete:disabled:hover {\n",
              "    background-color: var(--disabled-bg-color);\n",
              "    fill: var(--disabled-fill-color);\n",
              "    box-shadow: none;\n",
              "  }\n",
              "\n",
              "  .colab-df-spinner {\n",
              "    border: 2px solid var(--fill-color);\n",
              "    border-color: transparent;\n",
              "    border-bottom-color: var(--fill-color);\n",
              "    animation:\n",
              "      spin 1s steps(1) infinite;\n",
              "  }\n",
              "\n",
              "  @keyframes spin {\n",
              "    0% {\n",
              "      border-color: transparent;\n",
              "      border-bottom-color: var(--fill-color);\n",
              "      border-left-color: var(--fill-color);\n",
              "    }\n",
              "    20% {\n",
              "      border-color: transparent;\n",
              "      border-left-color: var(--fill-color);\n",
              "      border-top-color: var(--fill-color);\n",
              "    }\n",
              "    30% {\n",
              "      border-color: transparent;\n",
              "      border-left-color: var(--fill-color);\n",
              "      border-top-color: var(--fill-color);\n",
              "      border-right-color: var(--fill-color);\n",
              "    }\n",
              "    40% {\n",
              "      border-color: transparent;\n",
              "      border-right-color: var(--fill-color);\n",
              "      border-top-color: var(--fill-color);\n",
              "    }\n",
              "    60% {\n",
              "      border-color: transparent;\n",
              "      border-right-color: var(--fill-color);\n",
              "    }\n",
              "    80% {\n",
              "      border-color: transparent;\n",
              "      border-right-color: var(--fill-color);\n",
              "      border-bottom-color: var(--fill-color);\n",
              "    }\n",
              "    90% {\n",
              "      border-color: transparent;\n",
              "      border-bottom-color: var(--fill-color);\n",
              "    }\n",
              "  }\n",
              "</style>\n",
              "\n",
              "  <script>\n",
              "    async function quickchart(key) {\n",
              "      const quickchartButtonEl =\n",
              "        document.querySelector('#' + key + ' button');\n",
              "      quickchartButtonEl.disabled = true;  // To prevent multiple clicks.\n",
              "      quickchartButtonEl.classList.add('colab-df-spinner');\n",
              "      try {\n",
              "        const charts = await google.colab.kernel.invokeFunction(\n",
              "            'suggestCharts', [key], {});\n",
              "      } catch (error) {\n",
              "        console.error('Error during call to suggestCharts:', error);\n",
              "      }\n",
              "      quickchartButtonEl.classList.remove('colab-df-spinner');\n",
              "      quickchartButtonEl.classList.add('colab-df-quickchart-complete');\n",
              "    }\n",
              "    (() => {\n",
              "      let quickchartButtonEl =\n",
              "        document.querySelector('#df-b5467162-7bc7-41b5-8af9-d181acae86a0 button');\n",
              "      quickchartButtonEl.style.display =\n",
              "        google.colab.kernel.accessAllowed ? 'block' : 'none';\n",
              "    })();\n",
              "  </script>\n",
              "</div>\n",
              "\n",
              "    </div>\n",
              "  </div>\n"
            ],
            "application/vnd.google.colaboratory.intrinsic+json": {
              "type": "dataframe",
              "variable_name": "df",
              "summary": "{\n  \"name\": \"df\",\n  \"rows\": 26,\n  \"fields\": [\n    {\n      \"column\": \"Cabang\",\n      \"properties\": {\n        \"dtype\": \"string\",\n        \"num_unique_values\": 26,\n        \"samples\": [\n          \"I\",\n          \"Q\",\n          \"A\"\n        ],\n        \"semantic_type\": \"\",\n        \"description\": \"\"\n      }\n    },\n    {\n      \"column\": \"Drive-Thru\",\n      \"properties\": {\n        \"dtype\": \"category\",\n        \"num_unique_values\": 2,\n        \"samples\": [\n          \"Tidak\",\n          \"Ya\"\n        ],\n        \"semantic_type\": \"\",\n        \"description\": \"\"\n      }\n    },\n    {\n      \"column\": \"Jumlah Transaksi\",\n      \"properties\": {\n        \"dtype\": \"number\",\n        \"std\": 303,\n        \"min\": 2000,\n        \"max\": 2950,\n        \"num_unique_values\": 19,\n        \"samples\": [\n          2380,\n          2300\n        ],\n        \"semantic_type\": \"\",\n        \"description\": \"\"\n      }\n    },\n    {\n      \"column\": \"Lokasi\",\n      \"properties\": {\n        \"dtype\": \"category\",\n        \"num_unique_values\": 3,\n        \"samples\": [\n          \"Urban\",\n          \"Suburban\"\n        ],\n        \"semantic_type\": \"\",\n        \"description\": \"\"\n      }\n    },\n    {\n      \"column\": \"Hari Kerja per Minggu\",\n      \"properties\": {\n        \"dtype\": \"number\",\n        \"std\": 0,\n        \"min\": 5,\n        \"max\": 7,\n        \"num_unique_values\": 3,\n        \"samples\": [\n          6,\n          7\n        ],\n        \"semantic_type\": \"\",\n        \"description\": \"\"\n      }\n    },\n    {\n      \"column\": \"Jam Operasional per Hari\",\n      \"properties\": {\n        \"dtype\": \"number\",\n        \"std\": 2,\n        \"min\": 8,\n        \"max\": 15,\n        \"num_unique_values\": 8,\n        \"samples\": [\n          10,\n          11\n        ],\n        \"semantic_type\": \"\",\n        \"description\": \"\"\n      }\n    },\n    {\n      \"column\": \"Jumlah Karyawan\",\n      \"properties\": {\n        \"dtype\": \"number\",\n        \"std\": 2,\n        \"min\": 10,\n        \"max\": 20,\n        \"num_unique_values\": 10,\n        \"samples\": [\n          20,\n          12\n        ],\n        \"semantic_type\": \"\",\n        \"description\": \"\"\n      }\n    },\n    {\n      \"column\": \"Area Parkir (m\\u00b2)\",\n      \"properties\": {\n        \"dtype\": \"number\",\n        \"std\": 135,\n        \"min\": 200,\n        \"max\": 650,\n        \"num_unique_values\": 12,\n        \"samples\": [\n          320,\n          380\n        ],\n        \"semantic_type\": \"\",\n        \"description\": \"\"\n      }\n    },\n    {\n      \"column\": \"Pendapatan (Rp)\",\n      \"properties\": {\n        \"dtype\": \"string\",\n        \"num_unique_values\": 19,\n        \"samples\": [\n          \" Rp 120.000.000 \",\n          \" Rp 115.000.000 \"\n        ],\n        \"semantic_type\": \"\",\n        \"description\": \"\"\n      }\n    }\n  ]\n}"
            }
          },
          "metadata": {},
          "execution_count": 37
        }
      ]
    },
    {
      "cell_type": "code",
      "source": [
        "df.info()"
      ],
      "metadata": {
        "colab": {
          "base_uri": "https://localhost:8080/"
        },
        "id": "HmwdY-Y7hg6n",
        "outputId": "756f2afb-1c56-4a1f-e540-6604f7aed2a7"
      },
      "execution_count": 38,
      "outputs": [
        {
          "output_type": "stream",
          "name": "stdout",
          "text": [
            "<class 'pandas.core.frame.DataFrame'>\n",
            "RangeIndex: 26 entries, 0 to 25\n",
            "Data columns (total 9 columns):\n",
            " #   Column                    Non-Null Count  Dtype \n",
            "---  ------                    --------------  ----- \n",
            " 0   Cabang                    26 non-null     object\n",
            " 1   Drive-Thru                26 non-null     object\n",
            " 2   Jumlah Transaksi          26 non-null     int64 \n",
            " 3   Lokasi                    26 non-null     object\n",
            " 4   Hari Kerja per Minggu     26 non-null     int64 \n",
            " 5   Jam Operasional per Hari  26 non-null     int64 \n",
            " 6   Jumlah Karyawan           26 non-null     int64 \n",
            " 7   Area Parkir (m²)          26 non-null     int64 \n",
            " 8   Pendapatan (Rp)           26 non-null     object\n",
            "dtypes: int64(5), object(4)\n",
            "memory usage: 2.0+ KB\n"
          ]
        }
      ]
    },
    {
      "cell_type": "code",
      "source": [
        "df.duplicated().sum()"
      ],
      "metadata": {
        "colab": {
          "base_uri": "https://localhost:8080/"
        },
        "id": "fX9_aQZ9hmyQ",
        "outputId": "7d62e9b4-3e7f-4f3c-d8bb-9002d1dbb859"
      },
      "execution_count": 39,
      "outputs": [
        {
          "output_type": "execute_result",
          "data": {
            "text/plain": [
              "0"
            ]
          },
          "metadata": {},
          "execution_count": 39
        }
      ]
    },
    {
      "cell_type": "code",
      "source": [
        "df.isnull().sum()"
      ],
      "metadata": {
        "colab": {
          "base_uri": "https://localhost:8080/",
          "height": 366
        },
        "id": "dT7GsOzrhtSC",
        "outputId": "4a9a00f8-98c7-4f93-c7ce-3aae9c11107d"
      },
      "execution_count": 40,
      "outputs": [
        {
          "output_type": "execute_result",
          "data": {
            "text/plain": [
              "Cabang                      0\n",
              "Drive-Thru                  0\n",
              "Jumlah Transaksi            0\n",
              "Lokasi                      0\n",
              "Hari Kerja per Minggu       0\n",
              "Jam Operasional per Hari    0\n",
              "Jumlah Karyawan             0\n",
              "Area Parkir (m²)            0\n",
              "Pendapatan (Rp)             0\n",
              "dtype: int64"
            ],
            "text/html": [
              "<div>\n",
              "<style scoped>\n",
              "    .dataframe tbody tr th:only-of-type {\n",
              "        vertical-align: middle;\n",
              "    }\n",
              "\n",
              "    .dataframe tbody tr th {\n",
              "        vertical-align: top;\n",
              "    }\n",
              "\n",
              "    .dataframe thead th {\n",
              "        text-align: right;\n",
              "    }\n",
              "</style>\n",
              "<table border=\"1\" class=\"dataframe\">\n",
              "  <thead>\n",
              "    <tr style=\"text-align: right;\">\n",
              "      <th></th>\n",
              "      <th>0</th>\n",
              "    </tr>\n",
              "  </thead>\n",
              "  <tbody>\n",
              "    <tr>\n",
              "      <th>Cabang</th>\n",
              "      <td>0</td>\n",
              "    </tr>\n",
              "    <tr>\n",
              "      <th>Drive-Thru</th>\n",
              "      <td>0</td>\n",
              "    </tr>\n",
              "    <tr>\n",
              "      <th>Jumlah Transaksi</th>\n",
              "      <td>0</td>\n",
              "    </tr>\n",
              "    <tr>\n",
              "      <th>Lokasi</th>\n",
              "      <td>0</td>\n",
              "    </tr>\n",
              "    <tr>\n",
              "      <th>Hari Kerja per Minggu</th>\n",
              "      <td>0</td>\n",
              "    </tr>\n",
              "    <tr>\n",
              "      <th>Jam Operasional per Hari</th>\n",
              "      <td>0</td>\n",
              "    </tr>\n",
              "    <tr>\n",
              "      <th>Jumlah Karyawan</th>\n",
              "      <td>0</td>\n",
              "    </tr>\n",
              "    <tr>\n",
              "      <th>Area Parkir (m²)</th>\n",
              "      <td>0</td>\n",
              "    </tr>\n",
              "    <tr>\n",
              "      <th>Pendapatan (Rp)</th>\n",
              "      <td>0</td>\n",
              "    </tr>\n",
              "  </tbody>\n",
              "</table>\n",
              "</div><br><label><b>dtype:</b> int64</label>"
            ]
          },
          "metadata": {},
          "execution_count": 40
        }
      ]
    },
    {
      "cell_type": "markdown",
      "source": [
        "## Soal 1\n",
        "Apakah terdapat perbedaan signifikan antara rata-rata jumlah transaksi cabang yang memiliki fasilitas drive-thru dan yang tidak? Jika ya, berapa persentase perbedaannya?\n"
      ],
      "metadata": {
        "id": "-YvmfgsBh2BI"
      }
    },
    {
      "cell_type": "markdown",
      "source": [
        "### Jawab :"
      ],
      "metadata": {
        "id": "11_SdVBSjH-p"
      }
    },
    {
      "cell_type": "code",
      "source": [
        "## Rata-rata jumlah transaksi\n",
        "avg_transaction = df.groupby(\"Drive-Thru\")[\"Jumlah Transaksi\"].mean()\n",
        "avg_transaction"
      ],
      "metadata": {
        "colab": {
          "base_uri": "https://localhost:8080/",
          "height": 178
        },
        "id": "w3Gg8sLahyPE",
        "outputId": "b2cf20f2-169b-4d72-f428-91d6bbcc8087"
      },
      "execution_count": 41,
      "outputs": [
        {
          "output_type": "execute_result",
          "data": {
            "text/plain": [
              "Drive-Thru\n",
              "Tidak    2203.846154\n",
              "Ya       2729.230769\n",
              "Name: Jumlah Transaksi, dtype: float64"
            ],
            "text/html": [
              "<div>\n",
              "<style scoped>\n",
              "    .dataframe tbody tr th:only-of-type {\n",
              "        vertical-align: middle;\n",
              "    }\n",
              "\n",
              "    .dataframe tbody tr th {\n",
              "        vertical-align: top;\n",
              "    }\n",
              "\n",
              "    .dataframe thead th {\n",
              "        text-align: right;\n",
              "    }\n",
              "</style>\n",
              "<table border=\"1\" class=\"dataframe\">\n",
              "  <thead>\n",
              "    <tr style=\"text-align: right;\">\n",
              "      <th></th>\n",
              "      <th>Jumlah Transaksi</th>\n",
              "    </tr>\n",
              "    <tr>\n",
              "      <th>Drive-Thru</th>\n",
              "      <th></th>\n",
              "    </tr>\n",
              "  </thead>\n",
              "  <tbody>\n",
              "    <tr>\n",
              "      <th>Tidak</th>\n",
              "      <td>2203.846154</td>\n",
              "    </tr>\n",
              "    <tr>\n",
              "      <th>Ya</th>\n",
              "      <td>2729.230769</td>\n",
              "    </tr>\n",
              "  </tbody>\n",
              "</table>\n",
              "</div><br><label><b>dtype:</b> float64</label>"
            ]
          },
          "metadata": {},
          "execution_count": 41
        }
      ]
    },
    {
      "cell_type": "code",
      "source": [
        "plt.figure(figsize=(10, 6))\n",
        "sns.barplot(x=avg_transaction.index, y=avg_transaction.values, palette=\"viridis\")\n",
        "plt.title(\"Average Number of Transactions : Drive-Thru vs Non Drive-Thru\")\n",
        "plt.xlabel(\"Branch Type\")\n",
        "plt.ylabel(\"Average Number of Transactions\")\n",
        "plt.xticks(rotation=45)\n",
        "plt.show()"
      ],
      "metadata": {
        "colab": {
          "base_uri": "https://localhost:8080/",
          "height": 694
        },
        "id": "ARvIR-5Ol_eT",
        "outputId": "72d11540-0df8-4f09-b44c-89f620bf13cc"
      },
      "execution_count": 42,
      "outputs": [
        {
          "output_type": "stream",
          "name": "stderr",
          "text": [
            "<ipython-input-42-7ff69022cae5>:2: FutureWarning: \n",
            "\n",
            "Passing `palette` without assigning `hue` is deprecated and will be removed in v0.14.0. Assign the `x` variable to `hue` and set `legend=False` for the same effect.\n",
            "\n",
            "  sns.barplot(x=avg_transaction.index, y=avg_transaction.values, palette=\"viridis\")\n"
          ]
        },
        {
          "output_type": "display_data",
          "data": {
            "text/plain": [
              "<Figure size 1000x600 with 1 Axes>"
            ],
            "image/png": "[encoded data removed]"
          },
          "metadata": {}
        }
      ]
    },
    {
      "cell_type": "markdown",
      "source": [
        "### Analisis :"
      ],
      "metadata": {
        "id": "KvmAZAgyq871"
      }
    },
    {
      "cell_type": "markdown",
      "source": [
        "1. Transaksi Lebih Tinggi di Cabang dengan Drive-Thru: Cabang dengan drive-thru memiliki rata-rata jumlah transaksi yang lebih tinggi dibandingkan dengan cabang tanpa drive-thru. Ini menunjukkan bahwa drive-thru merupakan fasilitas yang penting dan dapat meningkatkan jumlah transaksi secara signifikan.\n",
        "2. Perbedaan Signifikan: Dengan perbedaan sekitar 23.84%, cabang dengan drive-thru memiliki potensi untuk menarik lebih banyak pelanggan, mungkin karena kemudahan akses tanpa harus keluar dari kendaraan, yang sangat penting terutama di area dengan mobilitas tinggi atau ketika pelanggan mencari kenyamanan.\n",
        "3. Strategi Ekspansi: Untuk strategi pembukaan cabang baru, data ini menunjukkan bahwa menambahkan fasilitas drive-thru dapat menjadi faktor yang meningkatkan performa cabang di masa depan. Cabang-cabang yang berada di wilayah perkotaan atau pinggiran dengan mobilitas tinggi mungkin mendapatkan manfaat lebih besar dari drive-thru.\n",
        "\n",
        "Secara keseluruhan, fasilitas drive-thru terbukti menjadi salah satu faktor penting dalam mendorong peningkatan transaksi di Restoran Roica.\n",
        "\n"
      ],
      "metadata": {
        "id": "1UGNoHGwrGsz"
      }
    },
    {
      "cell_type": "markdown",
      "source": [
        "## Soal 2"
      ],
      "metadata": {
        "id": "6nsBco_RtK9G"
      }
    },
    {
      "cell_type": "markdown",
      "source": [
        "Apakah terdapat perbedaan rata-rata jumlah transaksi berdasarkan lokasi cabang (Urban, Suburban, dan Rural)? Jika ya, lokasi mana yang memiliki rata-rata transaksi tertinggi?\n"
      ],
      "metadata": {
        "id": "FkTBjOK1vGe3"
      }
    },
    {
      "cell_type": "markdown",
      "source": [
        "### Jawab :"
      ],
      "metadata": {
        "id": "BBSB-cwcvs60"
      }
    },
    {
      "cell_type": "code",
      "source": [
        "# Rata-rata jumlah transaksi berdasarkan lokasi\n",
        "avg_transaction_location = df.groupby(\"Lokasi\")[\"Jumlah Transaksi\"].mean()\n",
        "avg_transaction_location\n"
      ],
      "metadata": {
        "colab": {
          "base_uri": "https://localhost:8080/",
          "height": 210
        },
        "id": "TQVFL0w9yGtV",
        "outputId": "15074ac3-d3fd-4bf3-fab9-cad01174942d"
      },
      "execution_count": 43,
      "outputs": [
        {
          "output_type": "execute_result",
          "data": {
            "text/plain": [
              "Lokasi\n",
              "Rural       2506.25\n",
              "Suburban    2400.00\n",
              "Urban       2488.00\n",
              "Name: Jumlah Transaksi, dtype: float64"
            ],
            "text/html": [
              "<div>\n",
              "<style scoped>\n",
              "    .dataframe tbody tr th:only-of-type {\n",
              "        vertical-align: middle;\n",
              "    }\n",
              "\n",
              "    .dataframe tbody tr th {\n",
              "        vertical-align: top;\n",
              "    }\n",
              "\n",
              "    .dataframe thead th {\n",
              "        text-align: right;\n",
              "    }\n",
              "</style>\n",
              "<table border=\"1\" class=\"dataframe\">\n",
              "  <thead>\n",
              "    <tr style=\"text-align: right;\">\n",
              "      <th></th>\n",
              "      <th>Jumlah Transaksi</th>\n",
              "    </tr>\n",
              "    <tr>\n",
              "      <th>Lokasi</th>\n",
              "      <th></th>\n",
              "    </tr>\n",
              "  </thead>\n",
              "  <tbody>\n",
              "    <tr>\n",
              "      <th>Rural</th>\n",
              "      <td>2506.25</td>\n",
              "    </tr>\n",
              "    <tr>\n",
              "      <th>Suburban</th>\n",
              "      <td>2400.00</td>\n",
              "    </tr>\n",
              "    <tr>\n",
              "      <th>Urban</th>\n",
              "      <td>2488.00</td>\n",
              "    </tr>\n",
              "  </tbody>\n",
              "</table>\n",
              "</div><br><label><b>dtype:</b> float64</label>"
            ]
          },
          "metadata": {},
          "execution_count": 43
        }
      ]
    },
    {
      "cell_type": "code",
      "source": [
        "plt.figure(figsize=(10, 6))\n",
        "sns.barplot(x=avg_transaction_location.index, y=avg_transaction_location.values, palette=\"viridis\")\n",
        "plt.title(\"Average Number of Transactions by Location\")\n",
        "plt.xlabel(\"Location\")\n",
        "plt.ylabel(\"Average Number of Transactions\")\n",
        "plt.xticks(rotation=45)\n",
        "plt.show()"
      ],
      "metadata": {
        "colab": {
          "base_uri": "https://localhost:8080/",
          "height": 714
        },
        "id": "crd4-3ypq-jX",
        "outputId": "721db219-28a4-433b-f6d7-0a3ec7170d2e"
      },
      "execution_count": 44,
      "outputs": [
        {
          "output_type": "stream",
          "name": "stderr",
          "text": [
            "<ipython-input-44-c734cba46444>:2: FutureWarning: \n",
            "\n",
            "Passing `palette` without assigning `hue` is deprecated and will be removed in v0.14.0. Assign the `x` variable to `hue` and set `legend=False` for the same effect.\n",
            "\n",
            "  sns.barplot(x=avg_transaction_location.index, y=avg_transaction_location.values, palette=\"viridis\")\n"
          ]
        },
        {
          "output_type": "display_data",
          "data": {
            "text/plain": [
              "<Figure size 1000x600 with 1 Axes>"
            ],
            "image/png": "[encoded data removed]"
          },
          "metadata": {}
        }
      ]
    },
    {
      "cell_type": "markdown",
      "source": [
        "### Analisis :"
      ],
      "metadata": {
        "id": "VD_s2iAGz4mW"
      }
    },
    {
      "cell_type": "markdown",
      "source": [
        "1. Cabang di Wilayah Rural Memiliki Rata-rata Transaksi Tertinggi:\n",
        "  - Dengan rata-rata jumlah transaksi sebesar 2,506, cabang di wilayah pedesaan (Rural) menunjukkan performa yang paling tinggi. Hal ini mungkin disebabkan oleh beberapa faktor, seperti kurangnya persaingan dengan restoran lain di wilayah tersebut, atau kebiasaan penduduk yang lebih bergantung pada restoran cepat saji karena keterbatasan pilihan makan di luar.\n",
        "2. Cabang Urban dan Suburban:\n",
        "  - Cabang di daerah Urban dan Suburban memiliki rata-rata transaksi yang relatif lebih rendah dibandingkan Rural. Meski begitu, Urban masih menunjukkan kinerja yang mendekati Rural dengan rata-rata 2,488 transaksi, yang menunjukkan bahwa urbanisasi, mobilitas tinggi, dan konsentrasi penduduk berkontribusi terhadap volume transaksi yang signifikan.\n",
        "  - Cabang di wilayah Suburban memiliki rata-rata transaksi terendah, yaitu 2,400 transaksi. Ini mungkin disebabkan oleh karakteristik wilayah suburban yang lebih tersebar, di mana pelanggan mungkin lebih memilih memasak sendiri atau ada lebih banyak pilihan restoran, sehingga mengurangi ketergantungan pada restoran cepat saji.\n",
        "3. Implikasi untuk Strategi Pembukaan Cabang Baru:\n",
        "  - Hasil ini memberikan insight penting bagi tim manajemen dalam merencanakan ekspansi cabang. Meski Urban umumnya dianggap sebagai wilayah yang potensial karena konsentrasi penduduknya, cabang di wilayah Rural menunjukkan bahwa pasar pedesaan juga bisa menjadi peluang besar dengan permintaan yang tinggi.\n",
        "  - Sebaliknya, untuk wilayah Suburban, strategi promosi atau pengembangan produk khusus mungkin diperlukan untuk meningkatkan performa cabang di sana.\n",
        "  \n",
        "Secara keseluruhan, lokasi cabang memainkan peran penting dalam jumlah transaksi yang dihasilkan. Pemasaran yang disesuaikan dengan karakteristik masing-masing wilayah dapat membantu meningkatkan performa cabang lebih lanjut.\n"
      ],
      "metadata": {
        "id": "DRckTiLMz68t"
      }
    },
    {
      "cell_type": "markdown",
      "source": [
        "## Soal 3"
      ],
      "metadata": {
        "id": "4fdvAv2o0Vwh"
      }
    },
    {
      "cell_type": "markdown",
      "source": [
        "Apakah cabang dengan fasilitas drive-thru memiliki rata-rata pendapatan yang lebih tinggi dibandingkan cabang non drive-thru? Jika ya, berapa selisih rata-ratanya?\n",
        "\n"
      ],
      "metadata": {
        "id": "U9vF8qV80aA7"
      }
    },
    {
      "cell_type": "markdown",
      "source": [
        "### Jawab :"
      ],
      "metadata": {
        "id": "UkAADoVD0qHn"
      }
    },
    {
      "cell_type": "code",
      "source": [
        "# Rata-rata jumlah transaksi berdasarkan pendapatan\n",
        "# Convert 'Pendapatan (Rp)' to numeric, removing non-digit characters\n",
        "# Check if the column is already numeric, if not, convert it to string first\n",
        "if not pd.api.types.is_numeric_dtype(df['Pendapatan (Rp)']):\n",
        "    df['Pendapatan (Rp)'] = df['Pendapatan (Rp)'].astype(str).str.replace(r'\\D+', '', regex=True).astype(float)\n",
        "else:\n",
        "    # If it's already numeric, no need for string conversion\n",
        "    df['Pendapatan (Rp)'] = df['Pendapatan (Rp)'].astype(float)\n",
        "\n",
        "# Rata-rata jumlah transaksi berdasarkan pendapatan\n",
        "avg_transaction_income = df.groupby(\"Drive-Thru\")[\"Pendapatan (Rp)\"].mean()\n",
        "avg_transaction_income"
      ],
      "metadata": {
        "colab": {
          "base_uri": "https://localhost:8080/",
          "height": 178
        },
        "id": "g1QYh3gwtPp5",
        "outputId": "6090bb83-db59-4690-f3cd-99de069c31fd"
      },
      "execution_count": 45,
      "outputs": [
        {
          "output_type": "execute_result",
          "data": {
            "text/plain": [
              "Drive-Thru\n",
              "Tidak    1.106154e+08\n",
              "Ya       1.400000e+08\n",
              "Name: Pendapatan (Rp), dtype: float64"
            ],
            "text/html": [
              "<div>\n",
              "<style scoped>\n",
              "    .dataframe tbody tr th:only-of-type {\n",
              "        vertical-align: middle;\n",
              "    }\n",
              "\n",
              "    .dataframe tbody tr th {\n",
              "        vertical-align: top;\n",
              "    }\n",
              "\n",
              "    .dataframe thead th {\n",
              "        text-align: right;\n",
              "    }\n",
              "</style>\n",
              "<table border=\"1\" class=\"dataframe\">\n",
              "  <thead>\n",
              "    <tr style=\"text-align: right;\">\n",
              "      <th></th>\n",
              "      <th>Pendapatan (Rp)</th>\n",
              "    </tr>\n",
              "    <tr>\n",
              "      <th>Drive-Thru</th>\n",
              "      <th></th>\n",
              "    </tr>\n",
              "  </thead>\n",
              "  <tbody>\n",
              "    <tr>\n",
              "      <th>Tidak</th>\n",
              "      <td>1.106154e+08</td>\n",
              "    </tr>\n",
              "    <tr>\n",
              "      <th>Ya</th>\n",
              "      <td>1.400000e+08</td>\n",
              "    </tr>\n",
              "  </tbody>\n",
              "</table>\n",
              "</div><br><label><b>dtype:</b> float64</label>"
            ]
          },
          "metadata": {},
          "execution_count": 45
        }
      ]
    },
    {
      "cell_type": "code",
      "source": [
        "plt.figure(figsize=(10, 6))\n",
        "sns.barplot(x=avg_transaction_income.index, y=avg_transaction_income.values, palette=\"viridis\")\n",
        "plt.title(\"Average Revenue : Drive-Thru vs Non Drive-Thru\")\n",
        "plt.xlabel(\"Branch\")\n",
        "plt.ylabel(\"Average Revenue\")\n",
        "plt.xticks(rotation=45)\n",
        "plt.show()\n"
      ],
      "metadata": {
        "colab": {
          "base_uri": "https://localhost:8080/",
          "height": 694
        },
        "id": "drJFM93G0U-F",
        "outputId": "fba6d1fc-85a5-4b7a-91a4-d54e816e7a57"
      },
      "execution_count": 46,
      "outputs": [
        {
          "output_type": "stream",
          "name": "stderr",
          "text": [
            "<ipython-input-46-a0220a7eff24>:2: FutureWarning: \n",
            "\n",
            "Passing `palette` without assigning `hue` is deprecated and will be removed in v0.14.0. Assign the `x` variable to `hue` and set `legend=False` for the same effect.\n",
            "\n",
            "  sns.barplot(x=avg_transaction_income.index, y=avg_transaction_income.values, palette=\"viridis\")\n"
          ]
        },
        {
          "output_type": "display_data",
          "data": {
            "text/plain": [
              "<Figure size 1000x600 with 1 Axes>"
            ],
            "image/png": "[encoded data removed]"
          },
          "metadata": {}
        }
      ]
    },
    {
      "cell_type": "markdown",
      "source": [
        "### Analisis :"
      ],
      "metadata": {
        "id": "qncUyM4O8PXB"
      }
    },
    {
      "cell_type": "markdown",
      "source": [
        "1. Cabang dengan Drive-Thru Memiliki Pendapatan Lebih Tinggi:\n",
        "  - Cabang yang memiliki fasilitas drive-thru mencatat pendapatan rata-rata sebesar Rp 140.000.000, sedangkan cabang tanpa drive-thru mencatat pendapatan rata-rata Rp 110.615.385. Ini menunjukkan bahwa drive-thru secara signifikan berkontribusi pada peningkatan pendapatan cabang.\n",
        "2. Selisih yang Signifikan:\n",
        "  - Selisih rata-rata pendapatan sebesar Rp 29.384.615 menunjukkan bahwa drive-thru bukan hanya menarik lebih banyak transaksi, tetapi juga menghasilkan pendapatan yang lebih besar. Fasilitas ini kemungkinan mempermudah pelanggan dalam melakukan pembelian, terutama bagi mereka yang mencari kenyamanan atau memiliki keterbatasan waktu.\n",
        "3. Faktor yang Mungkin Mempengaruhi:\n",
        "  - Fasilitas drive-thru bisa jadi menarik lebih banyak pelanggan yang melakukan pembelian lebih besar atau lebih sering. Pelanggan yang menggunakan drive-thru cenderung lebih cepat dalam memutuskan pembelian karena sifatnya yang praktis.\n",
        "  - Selain itu, cabang dengan drive-thru mungkin lebih berlokasi di area dengan lalu lintas tinggi, seperti di perkotaan atau jalan utama, yang berpotensi menambah jumlah pelanggan.\n",
        "4. Strategi Pengembangan Bisnis:\n",
        "  - Dengan hasil ini, manajemen Restoran Roica dapat mempertimbangkan untuk lebih fokus membuka cabang baru dengan fasilitas drive-thru, terutama di wilayah yang strategis. Fasilitas drive-thru telah terbukti tidak hanya meningkatkan jumlah transaksi, tetapi juga pendapatan.\n",
        "  - Mengintegrasikan lebih banyak cabang dengan drive-thru di lokasi-lokasi yang memiliki mobilitas tinggi atau yang lebih membutuhkan kenyamanan akan sangat bermanfaat untuk meningkatkan performa keuangan cabang.\n",
        "  \n",
        "Secara keseluruhan, hasil ini memberikan insight bahwa fasilitas drive-thru merupakan faktor kunci yang mendukung peningkatan pendapatan. Tim manajemen dapat mempertimbangkan untuk menambahkan fasilitas ini dalam rencana ekspansi mereka untuk meningkatkan profitabilitas di masa depan.\n"
      ],
      "metadata": {
        "id": "tOd0uFSP8SO8"
      }
    },
    {
      "cell_type": "markdown",
      "source": [
        "## Soal 4"
      ],
      "metadata": {
        "id": "FIWAT2av8kO7"
      }
    },
    {
      "cell_type": "markdown",
      "source": [
        "Apakah terdapat korelasi yang signifikan antara jumlah karyawan dan jumlah transaksi?\n"
      ],
      "metadata": {
        "id": "f-K1ti-n8n0F"
      }
    },
    {
      "cell_type": "markdown",
      "source": [
        "### Jawab :"
      ],
      "metadata": {
        "id": "6Ini0AdA89ya"
      }
    },
    {
      "cell_type": "code",
      "source": [
        "plt.scatter(df[\"Jumlah Karyawan\"], df[\"Jumlah Transaksi\"])\n",
        "plt.title(\"Colleration between Number of Employees and Number of Transactions\")\n",
        "plt.xlabel(\"Number of Employees\")\n",
        "plt.ylabel(\"Number of Transactions\")\n",
        "plt.show()"
      ],
      "metadata": {
        "colab": {
          "base_uri": "https://localhost:8080/",
          "height": 472
        },
        "id": "-aarNJSb9A96",
        "outputId": "aaa790bf-0fa8-4d69-85f0-5b5be1f67e25"
      },
      "execution_count": 47,
      "outputs": [
        {
          "output_type": "display_data",
          "data": {
            "text/plain": [
              "<Figure size 640x480 with 1 Axes>"
            ],
            "image/png": "[encoded data removed]"
          },
          "metadata": {}
        }
      ]
    },
    {
      "cell_type": "markdown",
      "source": [
        "### Analisis :"
      ],
      "metadata": {
        "id": "B2K2zj999zxd"
      }
    },
    {
      "cell_type": "markdown",
      "source": [
        "1. Korelasi Kuat dan Positif:\n",
        "  - Nilai korelasi sebesar 0,93 menunjukkan adanya hubungan yang sangat kuat antara jumlah karyawan dan jumlah transaksi. Artinya, semakin banyak karyawan yang dimiliki sebuah cabang, semakin tinggi pula jumlah transaksi yang dapat dilayani oleh cabang tersebut.\n",
        "2. Indikasi Produktivitas:\n",
        "  - Jumlah karyawan yang lebih banyak dapat mencerminkan kemampuan cabang dalam menangani lebih banyak pelanggan, yang pada akhirnya meningkatkan jumlah transaksi. Cabang dengan tenaga kerja yang lebih besar mampu melayani lebih banyak pelanggan secara efisien, terutama selama jam sibuk atau di cabang dengan volume pelanggan yang tinggi.\n",
        "3. Optimalisasi Sumber Daya:\n",
        "  - Temuan ini memberikan panduan bagi manajemen untuk memastikan bahwa cabang memiliki jumlah karyawan yang sesuai dengan volume transaksi. Jika jumlah karyawan tidak memadai, hal ini dapat menyebabkan penurunan efisiensi operasional, waktu tunggu yang lebih lama bagi pelanggan, dan pada akhirnya dapat menurunkan jumlah transaksi.\n",
        "4. Strategi Pengaturan Karyawan:\n",
        "  - Manajemen dapat menggunakan hasil ini untuk menentukan kebutuhan karyawan berdasarkan estimasi transaksi di cabang-cabang yang berbeda. Dengan menyesuaikan jumlah karyawan dengan volume transaksi yang diantisipasi, mereka dapat meningkatkan efisiensi dan kinerja setiap cabang.\n",
        "  \n",
        "Secara keseluruhan, hubungan antara jumlah karyawan dan jumlah transaksi sangat kuat, dan hasil ini mengindikasikan bahwa manajemen harus mempertimbangkan jumlah tenaga kerja yang cukup sebagai faktor penting dalam mengoptimalkan performa cabang-cabang Restoran Roica.\n"
      ],
      "metadata": {
        "id": "0_LT92cT93kR"
      }
    },
    {
      "cell_type": "markdown",
      "source": [
        "## Soal 5"
      ],
      "metadata": {
        "id": "-1Lo7CWz-QuE"
      }
    },
    {
      "cell_type": "markdown",
      "source": [
        "Bagaimana hubungan antara ukuran area parkir dan jumlah transaksi di cabang?\n"
      ],
      "metadata": {
        "id": "tpzO12Vf-ToQ"
      }
    },
    {
      "cell_type": "markdown",
      "source": [
        "### Jawab :"
      ],
      "metadata": {
        "id": "rjy79nxr-bDd"
      }
    },
    {
      "cell_type": "code",
      "source": [
        "plt.scatter(df[\"Area Parkir (m²)\"], df[\"Jumlah Transaksi\"])\n",
        "plt.title(\"Colleration between Parking Area Size and Number of Transactions\")\n",
        "plt.xlabel(\"Parking Area Size (m²)\")\n",
        "plt.ylabel(\"Number of Transactions\")\n",
        "plt.show()"
      ],
      "metadata": {
        "colab": {
          "base_uri": "https://localhost:8080/",
          "height": 472
        },
        "id": "cK--Uaua-c93",
        "outputId": "0f54f3e3-4f2c-46c7-996c-490db8f232d8"
      },
      "execution_count": 48,
      "outputs": [
        {
          "output_type": "display_data",
          "data": {
            "text/plain": [
              "<Figure size 640x480 with 1 Axes>"
            ],
            "image/png": "[encoded data removed]"
          },
          "metadata": {}
        }
      ]
    },
    {
      "cell_type": "markdown",
      "source": [
        "### Analisis :"
      ],
      "metadata": {
        "id": "KpoIEBMzGbzU"
      }
    },
    {
      "cell_type": "markdown",
      "source": [
        "1. Korelasi Positif yang Kuat:\n",
        "  - Nilai korelasi sebesar 0,90 menunjukkan adanya hubungan yang kuat antara ukuran area parkir dan jumlah transaksi. Semakin besar ukuran area parkir, semakin tinggi jumlah transaksi yang terjadi di cabang tersebut.\n",
        "2. Kemudahan Akses Bagi Pelanggan:\n",
        "  - Ukuran area parkir yang lebih besar mungkin memberikan kemudahan akses bagi pelanggan, terutama di wilayah dengan mobilitas tinggi atau bagi pelanggan yang menggunakan kendaraan pribadi. Parkir yang lebih luas juga memungkinkan lebih banyak pelanggan untuk parkir dan berbelanja secara bersamaan, yang berpotensi meningkatkan jumlah transaksi.\n",
        "3. Faktor Kenyamanan Pelanggan:\n",
        "  - Area parkir yang luas dapat meningkatkan kenyamanan pelanggan saat berkunjung, terutama pada jam-jam sibuk. Jika parkir terbatas, pelanggan mungkin cenderung enggan mengunjungi cabang karena kesulitan menemukan tempat parkir, sehingga berpotensi menurunkan jumlah transaksi.\n",
        "4. Strategi Pengembangan Fasilitas:\n",
        "  - Temuan ini memberikan insight bahwa ukuran area parkir merupakan elemen penting yang dapat mempengaruhi performa cabang. Untuk cabang di wilayah dengan mobilitas tinggi atau lokasi yang sering ramai, memperluas area parkir dapat menjadi strategi untuk meningkatkan transaksi dan kenyamanan pelanggan.\n",
        "\n",
        "Secara keseluruhan, hubungan yang kuat antara ukuran area parkir dan jumlah transaksi menunjukkan bahwa fasilitas parkir yang memadai sangat berpengaruh dalam menarik lebih banyak pelanggan dan meningkatkan kinerja cabang Restoran Roica.\n"
      ],
      "metadata": {
        "id": "7Rl0H5ldGeKL"
      }
    },
    {
      "cell_type": "markdown",
      "source": [
        "## Soal 6"
      ],
      "metadata": {
        "id": "asBA5qZaG2BZ"
      }
    },
    {
      "cell_type": "markdown",
      "source": [
        "Bagaimana pengaruh jam operasional per hari terhadap jumlah transaksi di cabang?\n"
      ],
      "metadata": {
        "id": "zXaw25h2G4P5"
      }
    },
    {
      "cell_type": "markdown",
      "source": [
        "### Jawab :"
      ],
      "metadata": {
        "id": "eSD7MsaiHA2g"
      }
    },
    {
      "cell_type": "code",
      "source": [
        "plt.scatter(df[\"Jam Operasional per Hari\"], df[\"Jumlah Transaksi\"])\n",
        "plt.title(\"Colleration between Operating Hours and Number of Transactions\")\n",
        "plt.xlabel(\"Operating Hours per Day\")\n",
        "plt.ylabel(\"Number of Transactions\")\n",
        "plt.show()"
      ],
      "metadata": {
        "colab": {
          "base_uri": "https://localhost:8080/",
          "height": 472
        },
        "id": "et7ey8j-HC5h",
        "outputId": "e22b78ab-dd09-4274-be8f-afe23ee8b400"
      },
      "execution_count": 49,
      "outputs": [
        {
          "output_type": "display_data",
          "data": {
            "text/plain": [
              "<Figure size 640x480 with 1 Axes>"
            ],
            "image/png": "[encoded data removed]"
          },
          "metadata": {}
        }
      ]
    },
    {
      "cell_type": "markdown",
      "source": [
        "### Analisis :"
      ],
      "metadata": {
        "id": "9LebA1XdJlNl"
      }
    },
    {
      "cell_type": "markdown",
      "source": [
        "1. Korelasi Positif yang Kuat:\n",
        "  - Nilai korelasi sebesar 0,87 menunjukkan hubungan yang kuat antara jam operasional dan jumlah transaksi. Semakin lama cabang beroperasi setiap hari, semakin besar kemungkinan cabang tersebut melayani lebih banyak pelanggan dan mencatat lebih banyak transaksi.\n",
        "2. Jam Operasional yang Lebih Lama Berpotensi Menarik Lebih Banyak Pelanggan:\n",
        "  - Cabang dengan jam operasional yang lebih panjang memungkinkan mereka melayani pelanggan pada berbagai waktu, termasuk selama jam sibuk seperti pagi, siang, dan malam. Ini memberikan fleksibilitas bagi pelanggan untuk datang kapan pun sesuai dengan jadwal mereka, yang pada akhirnya meningkatkan transaksi.\n",
        "3. Optimalisasi Waktu Operasional:\n",
        "  - Hasil ini menunjukkan bahwa cabang yang beroperasi lebih lama cenderung lebih sukses dalam meningkatkan jumlah transaksi. Namun, manajemen perlu memastikan bahwa jam operasional yang lebih panjang tidak menyebabkan pemborosan sumber daya, terutama di jam-jam di mana permintaan pelanggan rendah.\n",
        "  - Strategi untuk memperpanjang jam operasional mungkin cocok diterapkan di cabang-cabang dengan permintaan tinggi atau yang berlokasi di daerah dengan aktivitas pelanggan yang berlangsung hingga larut malam.\n",
        "4. Pengaruh Terhadap Pengelolaan Karyawan:\n",
        "  - Jam operasional yang lebih lama mungkin memerlukan tambahan karyawan untuk menjaga produktivitas selama seluruh jam operasional. Ini berarti bahwa manajemen perlu mempertimbangkan keseimbangan antara kebutuhan tenaga kerja dan potensi peningkatan transaksi.\n",
        "  \n",
        "Secara keseluruhan, jam operasional yang lebih lama cenderung menghasilkan jumlah transaksi yang lebih besar. Ini adalah faktor penting yang bisa dipertimbangkan dalam pengelolaan operasional dan strategi peningkatan performa cabang-cabang Restoran Roica.\n",
        "\n"
      ],
      "metadata": {
        "id": "Ed4Sj9kVJrPn"
      }
    }
  ]
}